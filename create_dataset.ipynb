{
 "cells": [
  {
   "cell_type": "markdown",
   "metadata": {},
   "source": [
    "## Construct the dataset using the cleaned texts"
   ]
  },
  {
   "cell_type": "markdown",
   "metadata": {},
   "source": [
    "### Load original df (from corpus_final_corregido.txt) to use it to copy the metadata to the df with the cleaned texts"
   ]
  },
  {
   "cell_type": "code",
   "execution_count": null,
   "metadata": {},
   "outputs": [],
   "source": [
    "import pandas as pd\n",
    "\n",
    "corpus_path='corpus/corpus_final_corregido.txt'\n",
    "df = pd.read_csv(corpus_path, sep='\\t')"
   ]
  },
  {
   "cell_type": "code",
   "execution_count": null,
   "metadata": {},
   "outputs": [],
   "source": [
    "# rename Contenido Txt to text and Resultado binario de la acción to label\n",
    "df = df.rename(columns={'Contenido Txt': 'text', 'Resultado binario de la acción': 'label'})"
   ]
  },
  {
   "cell_type": "markdown",
   "metadata": {},
   "source": [
    "### Read df from csv with cleaned texts"
   ]
  },
  {
   "cell_type": "code",
   "execution_count": null,
   "metadata": {},
   "outputs": [],
   "source": [
    "cleaned_df = pd.read_csv('corpus/cleaned_corpus.csv')"
   ]
  },
  {
   "cell_type": "markdown",
   "metadata": {},
   "source": [
    "### Merge df with cleaned_df keeping the texts from cleaned_df"
   ]
  },
  {
   "cell_type": "code",
   "execution_count": null,
   "metadata": {},
   "outputs": [
    {
     "name": "stdout",
     "output_type": "stream",
     "text": [
      "Index(['Codigo', 'Titulo', 'Fecha de la Resolución Judicial',\n",
      "       'Número resolución judicial', 'Tipo', 'Sala', 'Preopinante', 'Materia',\n",
      "       'Accion resuelta', 'Resultado de la acción',\n",
      "       'Tribunal o juzgado de origen', 'Nueva Fecha Resolución Judicial',\n",
      "       'Mes Resolución Judicial', 'Semestre Resolución Judicial',\n",
      "       'Año Resolución Judicial', 'label', 'text'],\n",
      "      dtype='object')\n"
     ]
    }
   ],
   "source": [
    "# copy all columns except text and label from df to cleaned_df taking into account the Codigo column\n",
    "cleaned_df = cleaned_df.rename(columns={'text': 'text_df2', 'label': 'label_df2'})\n",
    "merged_df = pd.merge(df.drop(columns=['text', 'label']), cleaned_df, on='Codigo')\n",
    "merged_df = merged_df.rename(columns={'text_df2': 'text', 'label_df2': 'label'})\n",
    "print(merged_df.columns)"
   ]
  },
  {
   "cell_type": "code",
   "execution_count": null,
   "metadata": {},
   "outputs": [
    {
     "data": {
      "text/html": [
       "<div>\n",
       "<style scoped>\n",
       "    .dataframe tbody tr th:only-of-type {\n",
       "        vertical-align: middle;\n",
       "    }\n",
       "\n",
       "    .dataframe tbody tr th {\n",
       "        vertical-align: top;\n",
       "    }\n",
       "\n",
       "    .dataframe thead th {\n",
       "        text-align: right;\n",
       "    }\n",
       "</style>\n",
       "<table border=\"1\" class=\"dataframe\">\n",
       "  <thead>\n",
       "    <tr style=\"text-align: right;\">\n",
       "      <th></th>\n",
       "      <th>Codigo</th>\n",
       "      <th>Titulo</th>\n",
       "      <th>Fecha de la Resolución Judicial</th>\n",
       "      <th>Número resolución judicial</th>\n",
       "      <th>Tipo</th>\n",
       "      <th>Sala</th>\n",
       "      <th>Preopinante</th>\n",
       "      <th>Materia</th>\n",
       "      <th>Accion resuelta</th>\n",
       "      <th>Resultado de la acción</th>\n",
       "      <th>Tribunal o juzgado de origen</th>\n",
       "      <th>Nueva Fecha Resolución Judicial</th>\n",
       "      <th>Mes Resolución Judicial</th>\n",
       "      <th>Semestre Resolución Judicial</th>\n",
       "      <th>Año Resolución Judicial</th>\n",
       "      <th>label</th>\n",
       "      <th>text</th>\n",
       "    </tr>\n",
       "  </thead>\n",
       "  <tbody>\n",
       "    <tr>\n",
       "      <th>0</th>\n",
       "      <td>38949</td>\n",
       "      <td>RECURSO EXTRAORDINARIO DE CASACIÓN INTERPUESTO...</td>\n",
       "      <td>martes, 13 de agosto de 2013</td>\n",
       "      <td>968</td>\n",
       "      <td>Acuerdo y Sentencia</td>\n",
       "      <td>SALA PENAL</td>\n",
       "      <td>A</td>\n",
       "      <td>Penal</td>\n",
       "      <td>Recurso de Casación</td>\n",
       "      <td>Declarar Inadmisible</td>\n",
       "      <td>TRIBUNAL DE APELACION EN LO PENAL PRIMERA SALA</td>\n",
       "      <td>13-08-2013</td>\n",
       "      <td>82013</td>\n",
       "      <td>2013-2</td>\n",
       "      <td>2013</td>\n",
       "      <td>0</td>\n",
       "      <td>1\\nEXPEDIENTE: RECURSO EXTRAORDINARIO DE\\nCASA...</td>\n",
       "    </tr>\n",
       "    <tr>\n",
       "      <th>1</th>\n",
       "      <td>97614</td>\n",
       "      <td>EXPEDIENTE: RECURSO EXTRAORDINARIO DE CASACIÓN...</td>\n",
       "      <td>jueves, 04 de mayo de 2023</td>\n",
       "      <td>102</td>\n",
       "      <td>Acuerdo y Sentencia</td>\n",
       "      <td>SALA PENAL</td>\n",
       "      <td>D</td>\n",
       "      <td>Penal</td>\n",
       "      <td>Recurso de Casación</td>\n",
       "      <td>Declarar Inadmisible</td>\n",
       "      <td>TRIBUNAL DE APELACION EN LO PENAL SEGUNDA SALA</td>\n",
       "      <td>04-05-2023</td>\n",
       "      <td>52023</td>\n",
       "      <td>2023-1</td>\n",
       "      <td>2023</td>\n",
       "      <td>0</td>\n",
       "      <td>EXPEDIENTE: RECURSO EXTRAORDINARIO DE CASACIÓN...</td>\n",
       "    </tr>\n",
       "    <tr>\n",
       "      <th>2</th>\n",
       "      <td>85576</td>\n",
       "      <td>EXPEDIENTE:  NESTOR VALENTIN GONZALEZ S/ HOMIC...</td>\n",
       "      <td>miércoles, 02 de junio de 2021</td>\n",
       "      <td>540</td>\n",
       "      <td>Acuerdo y Sentencia</td>\n",
       "      <td>SALA PENAL</td>\n",
       "      <td>C</td>\n",
       "      <td>Penal</td>\n",
       "      <td>Recurso de Casación</td>\n",
       "      <td>Declarar Inadmisible</td>\n",
       "      <td>NaN</td>\n",
       "      <td>02-06-2021</td>\n",
       "      <td>62021</td>\n",
       "      <td>2021-1</td>\n",
       "      <td>2021</td>\n",
       "      <td>0</td>\n",
       "      <td>lowe Oc\\nCORTE EXPTE: NESTOR VALENTIN GONZALE...</td>\n",
       "    </tr>\n",
       "    <tr>\n",
       "      <th>3</th>\n",
       "      <td>79901</td>\n",
       "      <td>EXPEDIENTEi RECURSO EXTRAO RDINARIO DE CASACIó...</td>\n",
       "      <td>lunes, 29 de junio de 2020</td>\n",
       "      <td>350</td>\n",
       "      <td>Acuerdo y Sentencia</td>\n",
       "      <td>SALA PENAL</td>\n",
       "      <td>D</td>\n",
       "      <td>Penal</td>\n",
       "      <td>Recurso de Casación</td>\n",
       "      <td>Declarar Inadmisible</td>\n",
       "      <td>NaN</td>\n",
       "      <td>29-06-2020</td>\n",
       "      <td>62020</td>\n",
       "      <td>2020-1</td>\n",
       "      <td>2020</td>\n",
       "      <td>0</td>\n",
       "      <td>EXPEDIENTE: RECURSO EXTRAORDINARIO DE\\nrE cx C...</td>\n",
       "    </tr>\n",
       "    <tr>\n",
       "      <th>4</th>\n",
       "      <td>72854</td>\n",
       "      <td>EXPEDIENTE: RECURSO DE CASACIÓN INTERPUESTO PO...</td>\n",
       "      <td>martes, 22 de mayo de 2012</td>\n",
       "      <td>348</td>\n",
       "      <td>Acuerdo y Sentencia</td>\n",
       "      <td>SALA PENAL</td>\n",
       "      <td>K</td>\n",
       "      <td>Penal</td>\n",
       "      <td>Extinción de la Acción Penal</td>\n",
       "      <td>No Hace Lugar</td>\n",
       "      <td>SALA PENAL</td>\n",
       "      <td>22-05-2012</td>\n",
       "      <td>52012</td>\n",
       "      <td>2012-1</td>\n",
       "      <td>2012</td>\n",
       "      <td>0</td>\n",
       "      <td>EXPEDIENTE: RECURSO DE CASACION INTERPUESTO\\nP...</td>\n",
       "    </tr>\n",
       "  </tbody>\n",
       "</table>\n",
       "</div>"
      ],
      "text/plain": [
       "   Codigo                                             Titulo  \\\n",
       "0   38949  RECURSO EXTRAORDINARIO DE CASACIÓN INTERPUESTO...   \n",
       "1   97614  EXPEDIENTE: RECURSO EXTRAORDINARIO DE CASACIÓN...   \n",
       "2   85576  EXPEDIENTE:  NESTOR VALENTIN GONZALEZ S/ HOMIC...   \n",
       "3   79901  EXPEDIENTEi RECURSO EXTRAO RDINARIO DE CASACIó...   \n",
       "4   72854  EXPEDIENTE: RECURSO DE CASACIÓN INTERPUESTO PO...   \n",
       "\n",
       "  Fecha de la Resolución Judicial  Número resolución judicial  \\\n",
       "0    martes, 13 de agosto de 2013                         968   \n",
       "1      jueves, 04 de mayo de 2023                         102   \n",
       "2  miércoles, 02 de junio de 2021                         540   \n",
       "3      lunes, 29 de junio de 2020                         350   \n",
       "4      martes, 22 de mayo de 2012                         348   \n",
       "\n",
       "                  Tipo        Sala Preopinante Materia  \\\n",
       "0  Acuerdo y Sentencia  SALA PENAL           A   Penal   \n",
       "1  Acuerdo y Sentencia  SALA PENAL           D   Penal   \n",
       "2  Acuerdo y Sentencia  SALA PENAL           C   Penal   \n",
       "3  Acuerdo y Sentencia  SALA PENAL           D   Penal   \n",
       "4  Acuerdo y Sentencia  SALA PENAL           K   Penal   \n",
       "\n",
       "                Accion resuelta Resultado de la acción  \\\n",
       "0           Recurso de Casación   Declarar Inadmisible   \n",
       "1           Recurso de Casación   Declarar Inadmisible   \n",
       "2           Recurso de Casación   Declarar Inadmisible   \n",
       "3           Recurso de Casación   Declarar Inadmisible   \n",
       "4  Extinción de la Acción Penal          No Hace Lugar   \n",
       "\n",
       "                     Tribunal o juzgado de origen  \\\n",
       "0  TRIBUNAL DE APELACION EN LO PENAL PRIMERA SALA   \n",
       "1  TRIBUNAL DE APELACION EN LO PENAL SEGUNDA SALA   \n",
       "2                                             NaN   \n",
       "3                                             NaN   \n",
       "4                                      SALA PENAL   \n",
       "\n",
       "  Nueva Fecha Resolución Judicial  Mes Resolución Judicial  \\\n",
       "0                      13-08-2013                    82013   \n",
       "1                      04-05-2023                    52023   \n",
       "2                      02-06-2021                    62021   \n",
       "3                      29-06-2020                    62020   \n",
       "4                      22-05-2012                    52012   \n",
       "\n",
       "  Semestre Resolución Judicial  Año Resolución Judicial  label  \\\n",
       "0                       2013-2                     2013      0   \n",
       "1                       2023-1                     2023      0   \n",
       "2                       2021-1                     2021      0   \n",
       "3                       2020-1                     2020      0   \n",
       "4                       2012-1                     2012      0   \n",
       "\n",
       "                                                text  \n",
       "0  1\\nEXPEDIENTE: RECURSO EXTRAORDINARIO DE\\nCASA...  \n",
       "1  EXPEDIENTE: RECURSO EXTRAORDINARIO DE CASACIÓN...  \n",
       "2   lowe Oc\\nCORTE EXPTE: NESTOR VALENTIN GONZALE...  \n",
       "3  EXPEDIENTE: RECURSO EXTRAORDINARIO DE\\nrE cx C...  \n",
       "4  EXPEDIENTE: RECURSO DE CASACION INTERPUESTO\\nP...  "
      ]
     },
     "metadata": {},
     "output_type": "display_data"
    }
   ],
   "source": [
    "merged_df.head()"
   ]
  },
  {
   "cell_type": "markdown",
   "metadata": {},
   "source": [
    "### Save new dataset to csv"
   ]
  },
  {
   "cell_type": "code",
   "execution_count": null,
   "metadata": {},
   "outputs": [],
   "source": [
    "merged_df.to_csv('corpus/corpus.csv', index=False)"
   ]
  }
 ],
 "metadata": {
  "language_info": {
   "name": "python"
  }
 },
 "nbformat": 4,
 "nbformat_minor": 2
}
