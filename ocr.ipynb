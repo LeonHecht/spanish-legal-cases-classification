{
 "cells": [
  {
   "cell_type": "markdown",
   "metadata": {},
   "source": [
    "## Perform OCR with Google Cloud Vision instead of tesseract to improve the dataset quality"
   ]
  },
  {
   "cell_type": "markdown",
   "metadata": {},
   "source": [
    "### Get text for all the scanned PDFs"
   ]
  },
  {
   "cell_type": "code",
   "execution_count": 1,
   "metadata": {},
   "outputs": [
    {
     "name": "stdout",
     "output_type": "stream",
     "text": [
      "4201 files found\n"
     ]
    }
   ],
   "source": [
    "from utils import ocr\n",
    "import pandas as pd\n",
    "from tqdm import tqdm\n",
    "\n",
    "path = 'corpus/descargados/'\n",
    "\n",
    "# get all the PDF files in the directory\n",
    "import os\n",
    "pdf_files = [f for f in os.listdir(path) if f.endswith('.pdf')]\n",
    "\n",
    "print(len(pdf_files), 'files found')"
   ]
  },
  {
   "cell_type": "markdown",
   "metadata": {},
   "source": [
    "### Count total number of scanned PDF pages in entire corpus"
   ]
  },
  {
   "cell_type": "code",
   "execution_count": 2,
   "metadata": {},
   "outputs": [
    {
     "name": "stderr",
     "output_type": "stream",
     "text": [
      "  0%|          | 0/4201 [00:00<?, ?it/s]"
     ]
    },
    {
     "name": "stderr",
     "output_type": "stream",
     "text": [
      "100%|██████████| 4201/4201 [12:59<00:00,  5.39it/s]"
     ]
    },
    {
     "name": "stdout",
     "output_type": "stream",
     "text": [
      "Total pages: 28639\n"
     ]
    },
    {
     "name": "stderr",
     "output_type": "stream",
     "text": [
      "\n"
     ]
    }
   ],
   "source": [
    "total_pages = 0\n",
    "for file in tqdm(pdf_files):\n",
    "    if ocr.is_scanned_pdf(path + file):\n",
    "        pages = ocr.count_pages(path + file)\n",
    "        total_pages += pages\n",
    "\n",
    "print('Total pages:', total_pages)"
   ]
  },
  {
   "cell_type": "markdown",
   "metadata": {},
   "source": [
    "Total scanned PDF pages: 28639\n",
    "\n",
    "First 1k: free  \n",
    "Next: 29.1966 mxn / unit  \n",
    "  \n",
    "Total Google Cloud Vision price = 27639 / 1000 * 29.1966 = 806.96 mxn"
   ]
  },
  {
   "cell_type": "markdown",
   "metadata": {},
   "source": [
    "### Convert PDFs to text using OCR from Google Cloud Vision"
   ]
  },
  {
   "cell_type": "code",
   "execution_count": null,
   "metadata": {},
   "outputs": [],
   "source": [
    "from utils import ocr\n",
    "import pandas as pd\n",
    "from tqdm import tqdm\n",
    "\n",
    "path = 'corpus/descargados/'\n",
    "\n",
    "# get all the PDF files in the directory\n",
    "import os\n",
    "pdf_files = [f for f in os.listdir(path) if f.endswith('.pdf')]\n",
    "\n",
    "df_google_ocr = pd.DataFrame(columns=['codigo', 'text'])\n",
    "\n",
    "for file in tqdm(pdf_files, desc=\"Processing PDFs\"):\n",
    "    text = ocr.pdf2text(path + file)\n",
    "    codigo = file.split('.')[0]\n",
    "\n",
    "    # Create a new row as a DataFrame\n",
    "    new_row = pd.DataFrame({'codigo': [codigo], 'text': [text]})\n",
    "    \n",
    "    # Concatenate the new row with the existing dataframe\n",
    "    df_google_ocr = pd.concat([df_google_ocr, new_row], ignore_index=True)\n",
    "\n",
    "# Save the dataframe to a CSV file for future use\n",
    "df_google_ocr.to_csv('google_ocr_results.csv', index=False)\n",
    "\n",
    "print(\"All files processed and saved to google_ocr_results.csv.\")\n"
   ]
  },
  {
   "cell_type": "markdown",
   "metadata": {},
   "source": [
    "### Process single PDF with Google Cloud Vision just to show the difference"
   ]
  },
  {
   "cell_type": "code",
   "execution_count": 3,
   "metadata": {},
   "outputs": [
    {
     "name": "stdout",
     "output_type": "stream",
     "text": [
      "Processing page 1...\n",
      "Processing page 2...\n",
      "Processing page 3...\n",
      "Processing page 4...\n",
      "Processing page 5...\n"
     ]
    }
   ],
   "source": [
    "google_text = ocr.pdf2text('corpus/descargados/47095.pdf')\n",
    "\n",
    "with open('corpus/google_text_47095_PDF.txt', 'w') as f:\n",
    "    f.write(google_text)"
   ]
  },
  {
   "cell_type": "code",
   "execution_count": 6,
   "metadata": {},
   "outputs": [],
   "source": [
    "df = pd.read_csv('corpus/corpus.csv')\n",
    "\n",
    "# Get the text of the row with codigo 47095\n",
    "text = df[df['Codigo'] == 47095]['text'].values[0]\n",
    "\n",
    "with open('corpus/47095_PDF.txt', 'w') as f:\n",
    "    f.write(text)"
   ]
  }
 ],
 "metadata": {
  "kernelspec": {
   "display_name": "Python 3",
   "language": "python",
   "name": "python3"
  },
  "language_info": {
   "codemirror_mode": {
    "name": "ipython",
    "version": 3
   },
   "file_extension": ".py",
   "mimetype": "text/x-python",
   "name": "python",
   "nbconvert_exporter": "python",
   "pygments_lexer": "ipython3",
   "version": "3.10.12"
  }
 },
 "nbformat": 4,
 "nbformat_minor": 2
}
