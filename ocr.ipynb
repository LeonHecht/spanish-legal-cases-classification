{
 "cells": [
  {
   "cell_type": "markdown",
   "metadata": {},
   "source": [
    "## Perform OCR with Google Cloud Vision instead of tesseract to improve the dataset quality"
   ]
  },
  {
   "cell_type": "markdown",
   "metadata": {},
   "source": [
    "### Get text for all the scanned PDFs"
   ]
  },
  {
   "cell_type": "code",
   "execution_count": 1,
   "metadata": {},
   "outputs": [
    {
     "name": "stdout",
     "output_type": "stream",
     "text": [
      "4201 files found\n"
     ]
    }
   ],
   "source": [
    "from utils import ocr\n",
    "import pandas as pd\n",
    "from tqdm import tqdm\n",
    "\n",
    "path = 'corpus/descargados/'\n",
    "\n",
    "# get all the PDF files in the directory\n",
    "import os\n",
    "pdf_files = [f for f in os.listdir(path) if f.endswith('.pdf')]\n",
    "\n",
    "print(len(pdf_files), 'files found')"
   ]
  },
  {
   "cell_type": "markdown",
   "metadata": {},
   "source": [
    "### Count total number of scanned PDF pages in entire corpus"
   ]
  },
  {
   "cell_type": "code",
   "execution_count": 2,
   "metadata": {},
   "outputs": [
    {
     "name": "stderr",
     "output_type": "stream",
     "text": [
      "  0%|          | 0/4201 [00:00<?, ?it/s]"
     ]
    },
    {
     "name": "stderr",
     "output_type": "stream",
     "text": [
      "100%|██████████| 4201/4201 [12:59<00:00,  5.39it/s]"
     ]
    },
    {
     "name": "stdout",
     "output_type": "stream",
     "text": [
      "Total pages: 28639\n"
     ]
    },
    {
     "name": "stderr",
     "output_type": "stream",
     "text": [
      "\n"
     ]
    }
   ],
   "source": [
    "total_pages = 0\n",
    "for file in tqdm(pdf_files):\n",
    "    if ocr.is_scanned_pdf(path + file):\n",
    "        pages = ocr.count_pages(path + file)\n",
    "        total_pages += pages\n",
    "\n",
    "print('Total pages:', total_pages)"
   ]
  },
  {
   "cell_type": "markdown",
   "metadata": {},
   "source": [
    "Total scanned PDF pages: 28639\n",
    "\n",
    "First 1k: free  \n",
    "Next: 29.1966 mxn / unit  \n",
    "  \n",
    "Total Google Cloud Vision price = 27639 / 1000 * 29.1966 = 806.96 mxn"
   ]
  },
  {
   "cell_type": "markdown",
   "metadata": {},
   "source": [
    "### Convert PDFs to text using OCR from Google Cloud Vision"
   ]
  },
  {
   "cell_type": "code",
   "execution_count": 1,
   "metadata": {},
   "outputs": [
    {
     "name": "stderr",
     "output_type": "stream",
     "text": [
      "Processing PDFs:   0%|          | 10/4201 [00:53<6:10:13,  5.30s/it]"
     ]
    },
    {
     "name": "stdout",
     "output_type": "stream",
     "text": [
      "All files processed and saved to google_ocr_results.csv.\n"
     ]
    },
    {
     "name": "stderr",
     "output_type": "stream",
     "text": [
      "\n"
     ]
    }
   ],
   "source": [
    "from utils import ocr\n",
    "import pandas as pd\n",
    "from tqdm import tqdm\n",
    "\n",
    "path = 'corpus/descargados/'\n",
    "\n",
    "# get all the PDF files in the directory\n",
    "import os\n",
    "pdf_files = [f for f in os.listdir(path) if f.endswith('.pdf')]\n",
    "\n",
    "df_google_ocr = pd.DataFrame(columns=['codigo', 'text'])\n",
    "\n",
    "for file in tqdm(pdf_files, desc=\"Processing PDFs\"):\n",
    "    \n",
    "    text = ocr.pdf2text(path + file)\n",
    "    codigo = file.split('.')[0]\n",
    "\n",
    "    # Create a new row as a DataFrame\n",
    "    new_row = pd.DataFrame({'codigo': [codigo], 'text': [text]})\n",
    "    \n",
    "    # Concatenate the new row with the existing dataframe\n",
    "    df_google_ocr = pd.concat([df_google_ocr, new_row], ignore_index=True)\n",
    "\n",
    "# Save the dataframe to a CSV file for future use\n",
    "df_google_ocr.to_csv('google_ocr_results.csv', index=False)\n",
    "\n",
    "print(\"All files processed and saved to google_ocr_results.csv.\")\n"
   ]
  },
  {
   "cell_type": "code",
   "execution_count": 2,
   "metadata": {},
   "outputs": [
    {
     "data": {
      "text/html": [
       "<div>\n",
       "<style scoped>\n",
       "    .dataframe tbody tr th:only-of-type {\n",
       "        vertical-align: middle;\n",
       "    }\n",
       "\n",
       "    .dataframe tbody tr th {\n",
       "        vertical-align: top;\n",
       "    }\n",
       "\n",
       "    .dataframe thead th {\n",
       "        text-align: right;\n",
       "    }\n",
       "</style>\n",
       "<table border=\"1\" class=\"dataframe\">\n",
       "  <thead>\n",
       "    <tr style=\"text-align: right;\">\n",
       "      <th></th>\n",
       "      <th>codigo</th>\n",
       "    </tr>\n",
       "  </thead>\n",
       "  <tbody>\n",
       "    <tr>\n",
       "      <th>count</th>\n",
       "      <td>3801.000000</td>\n",
       "    </tr>\n",
       "    <tr>\n",
       "      <th>mean</th>\n",
       "      <td>71239.029203</td>\n",
       "    </tr>\n",
       "    <tr>\n",
       "      <th>std</th>\n",
       "      <td>20319.554312</td>\n",
       "    </tr>\n",
       "    <tr>\n",
       "      <th>min</th>\n",
       "      <td>24764.000000</td>\n",
       "    </tr>\n",
       "    <tr>\n",
       "      <th>25%</th>\n",
       "      <td>52710.000000</td>\n",
       "    </tr>\n",
       "    <tr>\n",
       "      <th>50%</th>\n",
       "      <td>75967.000000</td>\n",
       "    </tr>\n",
       "    <tr>\n",
       "      <th>75%</th>\n",
       "      <td>86583.000000</td>\n",
       "    </tr>\n",
       "    <tr>\n",
       "      <th>max</th>\n",
       "      <td>102577.000000</td>\n",
       "    </tr>\n",
       "  </tbody>\n",
       "</table>\n",
       "</div>"
      ],
      "text/plain": [
       "              codigo\n",
       "count    3801.000000\n",
       "mean    71239.029203\n",
       "std     20319.554312\n",
       "min     24764.000000\n",
       "25%     52710.000000\n",
       "50%     75967.000000\n",
       "75%     86583.000000\n",
       "max    102577.000000"
      ]
     },
     "execution_count": 2,
     "metadata": {},
     "output_type": "execute_result"
    }
   ],
   "source": [
    "import pandas as pd\n",
    "\n",
    "# read df at google_ocr_results_10.csv\n",
    "df = pd.read_csv('google_ocr_results.csv')\n",
    "\n",
    "df.describe()"
   ]
  },
  {
   "cell_type": "code",
   "execution_count": 23,
   "metadata": {},
   "outputs": [
    {
     "name": "stdout",
     "output_type": "stream",
     "text": [
      "EXPEDIENTE: ESTANISLAO GAVILÁN VERA S S.H.P CONTRA NIÑOS Y ADOLESCENTES (ABUSO SEXUAL EN NIÑOS) N 1586 2022 ACUERDO Y SENTENCIA En la ciudad de Asunción, Capital de la República del Paraguay, estando reunidos en la Sala de Acuerdos los Excmos. Señores Ministros de la Corte Suprema de Justicia, Sala Penal, Doctores, MANUEL DEJESÚS RAMÍREZ CANDIA, MARÍA CAROLINA LLANES OCAMPOS y LUIS MARIA BENITEZ RIERA, por ante mí, la Secretaria autorizante, se trajo el expediente caratulado: RECURSO DE CASACION INTERPUESTO POR EL ABG. VÍCTOR GÓMEZ GARAY EN LOS AUTOS: ESTANISLAO GAVILÁN VERA S S.H.P C NIÑOS Y ADOLESCENTES (ABUSO SEXUAL EN NIÑOS) N 1586 2022 , a fin de resolver el Recurso Extraordinario de Casación planteado en contra del Acuerdo y Sentencia N 155 de fecha 05 de octubre de 2022, dictado por el Tribunal de Apelación Penal de la Circunscripción Judicial de Central.- Previo el estudio de los antecedentes del caso, la Corte Suprema de Justicia, Sala Penal, resolvió plantear las siguientes; - C U E S T I O N E S: Es admisible para su estudio el Recurso Extraordinario de Casación interpuesto?- En su caso, resulta procedente?- Practicado el sorteo de ley para determinar el orden de votación dio el siguiente resultado: RAMÍREZ CANDIA, LLANES OCAMPOS y BENITEZ RIERA.- I. A LA PRIMERA CUESTIÓN, EL MINISTRO MANUEL RAMÍREZ CANDIA SOSTUVO : - El Tribunal de Apelación Penal de la Circunscripción Judicial de Central, por Acuerdo y Sentencia N. 155 de fecha 05 de octubre de 2022 confirmó la S.D N 448 de fecha 28 de junio de 2022.- El abogado defensor del acusado interpone recurso extraordinario de casación contra la referida resolución del Tribunal de Apelaciones.- En cuanto a la forma, el recurso de casación ha sido presentado por escrito ante la Sala Penal de la Corte Suprema de Justicia, según lo establecido en el Art. 480 primera parte del C.P.P.- Para conocer la validez del documento, verifique aquí. EXPEDIENTE: ESTANISLAO GAVILÁN VERA S S.H.P CONTRA NIÑOS Y ADOLESCENTES (ABUSO SEXUAL EN NIÑOS) N 1586 2022 De las constancias de autos, se concluye que el escrito recursivo ha sido planteado en el plazo de diez días y ante la Secretaría de la Sala Penal de la Corte Suprema de Justicia, por lo que se adecua a las exigencias procesales previstas en los Arts. 480 y 468 del C.P.P.- La resolución objeto de la presente casación fue notificada al abogado en fecha 06 de diciembre de 2022 y el recurso fue interpuesto el 21 de diciembre del mismo año, es decir, al décimo día, por lo tanto, la presentación recursiva se adecua al plazo establecido en la ley.- Con referencia al derecho a recurrir se tiene que el citado abogado ejerce la defensa del acusado Estanislao Gavilán Vera. Por lo que se halla cumplida la exigencia prevista en el 2do. Párrafo del Art. 449 del C.P.P .- Respecto al objeto del recurso de casación se observa que el recurrente utiliza este medio de impugnación contra una sentencia definitiva del Tribunal de Apelaciones. En ese contexto, el objeto de casación se adecua a los presupuestos del Art. 477 primera alternativa del C.P.P.- En el siguiente presupuesto de admisibilidad de la casación, corresponde analizar si la presentación recursiva planteada cumple con los requisitos de fundamentación del recurso, según lo establecen los Arts. 449, 450, 468 párrafo primero y 478 del C.P.P.- El impugnante invocó como principal motivo de agravios lo previsto en el Art. 478, inciso 3 del C.P.P. En este sentido, el art. 449 primer párrafo CPP establece que las resoluciones judiciales son recurribles siempre que causen agravio al recurrente. También el art. 450 CPP exige que los recursos se interpongan con indicación específica de los puntos de la resolución impugnada. Y, además, se requiere la expresión concreta y separada de cada motivo del recurso y la solución que se pretende (art. 468 párrafo primero CPP).- En ese contexto, como primer agravio procesal, el recurrente manifiesta que el Tribunal de Sentencia condenó a su defendido sin llegar a comprobar la certeza de culpabilidad del acusado por el supuesto hecho punible que se le atribuye , agravio que ha sido expuesto en el recurso de apelación, y que, - según refiere el Tribunal de Apelaciones ha omitido expedirse al respecto.- Para conocer la validez del documento, verifique aquí. EXPEDIENTE: ESTANISLAO GAVILÁN VERA S S.H.P CONTRA NIÑOS Y ADOLESCENTES (ABUSO SEXUAL EN NIÑOS) N 1586 2022 Asimismo, expone el casacionista que el Tribunal de Alzada ha efectuado una fractura al orden constitucional al confirmar la condena impuesta al acusado.- En relación a los cuestionamientos formulados en los términos expuestos, los mismos no pueden ser admitidos. El casacionista se limita a afirmar que la condena impuesta a su defendido es arbitraria y que el fallo del Tribunal de Apelación se halla desprovisto de fundamentación, sin describir forma concreta cual fue el vicio específico en el que incurrió el órgano revisor y la manera en que se manifiesta en su decisión, limitándose a afirmar la existencia de deficiencia en la argumentación. A su turno, la Ministra María Carolina Llanes manifiesta: Me adhiero a la opinión del ministro Manuel Dejesús Ramírez Candia, en el sentido de declarar la Inadmisibilidad del Recurso Extraordinario de Casación planteado, en atención a que, si bien la resolución recurrida se encuentra dentro del ítem de los fallos que son susceptibles de casación en virtud a lo dispuesto en el art. 477 del Código Procesal Penal, no se ha cumplido con el requisito de la fundamentación debida de los agravios. Es mi voto.- A su turno, el Ministro Luis María Benítez Riera manifiesta: adherirse a declarar INADMISIBLE el recurso extraordinario de casación, manifestando lo siguiente: Es necesario recordar que El acto impugnativo debe manifestarse por escrito y debe estar motivado en razones de hecho y de derecho que demuestren la existencia del vicio denunciado y la solución que corresponda al caso.- Al respecto, el Prof. Fernando de la Rúa, sostiene: El recurso debe ser motivado y esa motivación debe ser suministrada por la parte recurrente en el mismo escrito de interposición, determinando concretamente el agravio, tanto en lo referente al vicio que denuncia como el derecho que lo sustenta (La Casación Penal Depalma 1994).- Debemos señalar que la competencia del Órgano Juzgador queda limitada a los motivos invocados en el escrito de interposición del recurso, de manera que si los motivos no se hallan consignados en el escrito respectivo o simplemente si los mismos no son argumentados por los impugnantes, es Para conocer la validez del documento, verifique aquí. EXPEDIENTE: ESTANISLAO GAVILÁN VERA S S.H.P CONTRA NIÑOS Y ADOLESCENTES (ABUSO SEXUAL EN NIÑOS) N 1586 2022 imposible dar trámite al recurso en cuestión tornándose así inadmisible el planteamiento. El acto impugnativo debe bastarse a sí mismo. - El impugnante en autos no ha dado cumplimiento a este requisito.- Con lo que se dio por terminado el acto firmando S.S.E.E., todo por ante mí que lo certifico, quedando acordada la sentencia que inmediatamente sigue: ACUERDO Y SENTENCIA VISTOS: Los méritos del acuerdo que antecede, la Excelentísima; - CORTE SUPREMA DE JUSTICIA SALA PENAL \n"
     ]
    }
   ],
   "source": [
    "corpus_path='corpus/cleaned_corpus.csv'\n",
    "df = pd.read_csv(corpus_path, usecols=['text', 'Codigo'])\n",
    "print(df.loc[df['Codigo'] == 98140, 'text'].values[0])"
   ]
  },
  {
   "cell_type": "code",
   "execution_count": 3,
   "metadata": {},
   "outputs": [
    {
     "name": "stdout",
     "output_type": "stream",
     "text": [
      "EXPEDIENTE: ESTANISLAO GAVILÁN VERA \n",
      "S/ S.H.P CONTRA NIÑOS  Y ADOLESCENTES\n",
      " (ABUSO SEXUAL EN NIÑOS) N° 1586/2022\n",
      "ACUERDO Y SENTENCIA\n",
      "En la ciudad de Asunción, Capital de la República del Paraguay, \n",
      "estando reunidos en la Sala de Acuerdos  los Excmos.  Señores  Ministros de \n",
      "la Corte  Suprema de Justicia, Sala Penal, Doctores, MANUEL DEJESÚS \n",
      "RAMÍREZ CANDIA, MARÍA CAROLINA  LLANES OCAMPOS y LUIS \n",
      "MARIA BENITEZ RIERA, por ante mí, la Secretaria autorizante, se trajo el \n",
      "expediente caratulado:  “RECURSO DE CASACION INTERPUESTO  POR \n",
      "EL ABG. VÍCTOR GÓMEZ GARAY EN LOS AUTOS: “ESTANISLAO \n",
      "GAVILÁN VERA S/ S.H.P  C/ NIÑOS  Y ADOLESCENTES  (ABUSO SEXUAL \n",
      "EN NIÑOS) N° 1586/2022 ”, a fin de resolver  el Recurso  Extraordinario de \n",
      "Casación planteado  en contra  del Acuerdo  y Sentencia Nº 155 de fecha 05 \n",
      "de octubre de 2022,   dictado por el Tribunal de Apelación Penal de la \n",
      "Circunscripción Judicial  de Central.-\n",
      "Previo el estudio  de los antecedentes del caso, la Corte Suprema  de \n",
      "Justicia, Sala Penal, resolvió  plantear las siguientes; -\n",
      "C U E S T I O N E S:\n",
      "¿Es admisible  para su estudio el Recurso Extraordinario de \n",
      "Casación interpuesto?-\n",
      "En su caso, ¿resulta procedente?-\n",
      "Practicado el sorteo de ley para determinar el orden de votación dio el \n",
      "siguiente resultado: RAMÍREZ CANDIA,  LLANES  OCAMPOS y BENITEZ \n",
      "RIERA.-\n",
      "I. A LA PRIMERA  CUESTIÓN,  EL MINISTRO  MANUEL RAMÍREZ \n",
      "CANDIA SOSTUVO : -\n",
      "El Tribunal de Apelación Penal  de la Circunscripción Judicial de \n",
      "Central, por Acuerdo y Sentencia N.º 155 de fecha 05 de octubre de 2022 \n",
      "confirmó la S.D N° 448 de fecha  28 de junio  de 2022.-\n",
      "El abogado defensor del acusado interpone recurso extraordinario  de \n",
      "casación contra  la referida  resolución del Tribunal de Apelaciones.-\n",
      "En cuanto a la forma, el recurso  de casación  ha sido presentado por \n",
      "escrito ante la Sala Penal de la Corte Suprema  de Justicia, según lo \n",
      "establecido en el Art. 480 – primera parte – del C.P.P.-\n",
      "Para conocer la\n",
      "validez del\n",
      "documento,\n",
      "verifique aquí.\n",
      " EXPEDIENTE: ESTANISLAO GAVILÁN VERA \n",
      "S/ S.H.P CONTRA NIÑOS  Y ADOLESCENTES\n",
      " (ABUSO SEXUAL EN NIÑOS) N° 1586/2022\n",
      "De las constancias de autos, se concluye que el escrito recursivo ha \n",
      "sido planteado en el plazo  de diez días y ante la Secretaría de la Sala Penal \n",
      "de la Corte Suprema de Justicia, por lo que se adecua a las exigencias \n",
      "procesales previstas  en los Arts. 480 y 468 del C.P.P.-\n",
      "La resolución objeto de la presente casación fue notificada al abogado \n",
      "en fecha 06 de diciembre  de 2022  y el recurso fue interpuesto  el 21 de \n",
      "diciembre del mismo año, es decir, al décimo  día, por lo tanto, la presentación \n",
      "recursiva se adecua  al plazo  establecido en la ley.-\n",
      "Con referencia al derecho a recurrir  se tiene que el citado abogado  ejerce \n",
      "la defensa del acusado  Estanislao Gavilán Vera. Por lo que se halla  \n",
      "cumplida la exigencia prevista en el 2do. Párrafo del Art. 449 del C.P.P .-\n",
      "Respecto al objeto  del recurso  de casación se observa que el recurrente \n",
      "utiliza este medio  de impugnación contra una sentencia  definitiva del Tribunal \n",
      "de Apelaciones. En ese contexto, el objeto  de casación  se adecua  a los \n",
      "presupuestos del Art. 477 primera alternativa del C.P.P.-  \n",
      "En el siguiente presupuesto  de admisibilidad de la casación, corresponde \n",
      "analizar si la presentación recursiva planteada  cumple con los requisitos de \n",
      "fundamentación del recurso, según lo establecen los Arts. 449, 450, 468 \n",
      "párrafo primero y 478 del C.P.P.-\n",
      "El impugnante  invocó como principal motivo  de agravios lo previsto en el \n",
      "Art. 478, inciso 3° del C.P.P. En este sentido,  el art. 449 primer párrafo CPP \n",
      "establece que las resoluciones judiciales  son recurribles  siempre  que causen \n",
      "agravio al recurrente.  También el art. 450 CPP exige que los recursos se \n",
      "interpongan con indicación específica de los puntos de la resolución  \n",
      "impugnada. Y, además,  se requiere la expresión concreta  y separada de cada \n",
      "motivo del recurso  y la solución que se pretende (art. 468 párrafo primero \n",
      "CPP).-\n",
      "En ese contexto, como  primer  agravio procesal, el recurrente manifiesta  \n",
      "que el Tribunal de Sentencia condenó  a su defendido  “sin llegar a comprobar \n",
      "la certeza de culpabilidad del acusado por el supuesto hecho  punible que se \n",
      "le atribuye”, agravio que ha sido expuesto en el recurso  de apelación, y que, \n",
      "- según refiere  – el Tribunal de Apelaciones  ha omitido expedirse al respecto.-\n",
      "Para conocer la\n",
      "validez del\n",
      "documento,\n",
      "verifique aquí.\n",
      " EXPEDIENTE: ESTANISLAO GAVILÁN VERA \n",
      "S/ S.H.P CONTRA NIÑOS  Y ADOLESCENTES\n",
      " (ABUSO SEXUAL EN NIÑOS) N° 1586/2022\n",
      "Asimismo, expone el casacionista que el Tribunal de Alzada “ha efectuado \n",
      "una fractura al orden constitucional” al confirmar la condena impuesta al \n",
      "acusado.- \n",
      "       En  relación  a los cuestionamientos formulados  en los términos \n",
      "expuestos, los mismos  no pueden  ser admitidos. El casacionista  se limita a \n",
      "afirmar que la condena impuesta  a su defendido  es arbitraria y que el fallo del \n",
      "Tribunal de Apelación se halla  desprovisto de fundamentación, sin describir \n",
      "forma concreta cual fue el vicio específico en el que incurrió el órgano  revisor  \n",
      "y la manera  en que se manifiesta  en su decisión, limitándose a afirmar  la \n",
      "existencia de deficiencia en la argumentación.  –\n",
      "A su turno, la Ministra María  Carolina Llanes manifiesta:  Me adhiero  a la \n",
      "opinión del ministro Manuel Dejesús Ramírez Candia,  en el sentido de \n",
      "declarar la Inadmisibilidad del Recurso Extraordinario de Casación  planteado, \n",
      "en atención a que, si bien la resolución recurrida se encuentra dentro del ítem \n",
      "de los fallos  que son susceptibles  de casación en virtud a lo dispuesto  en el \n",
      "art. 477 del Código Procesal Penal,  no se ha cumplido con el requisito de la \n",
      "fundamentación debida de los agravios. Es mi voto.-\n",
      "A su turno, el Ministro Luis María  Benítez Riera manifiesta: adherirse a \n",
      "declarar INADMISIBLE  el recurso  extraordinario de casación, manifestando \n",
      "lo siguiente:  Es necesario recordar que El acto impugnativo debe \n",
      "manifestarse por escrito  y debe estar motivado en razones de hecho  y de \n",
      "derecho que demuestren  la existencia del vicio denunciado  y la solución  que \n",
      "corresponda al caso.-\n",
      "Al respecto, el Prof. Fernando de la Rúa, sostiene: “El recurso debe ser \n",
      "motivado y esa motivación  debe ser suministrada  por la parte recurrente \n",
      "en el mismo escrito de interposición, determinando concretamente el \n",
      "agravio, tanto en lo referente al vicio que denuncia como el derecho que \n",
      "lo sustenta” (La Casación Penal – Depalma 1994).-\n",
      "Debemos señalar que la competencia del Órgano Juzgador queda limitada  \n",
      "a los motivos invocados en el escrito de interposición del recurso, de manera \n",
      "que si los motivos no se hallan consignados en el escrito respectivo o \n",
      "simplemente si los mismos no son argumentados por los impugnantes, es\n",
      "Para conocer la\n",
      "validez del\n",
      "documento,\n",
      "verifique aquí.\n",
      " EXPEDIENTE: ESTANISLAO GAVILÁN VERA \n",
      "S/ S.H.P CONTRA NIÑOS  Y ADOLESCENTES\n",
      " (ABUSO SEXUAL EN NIÑOS) N° 1586/2022\n",
      " imposible dar trámite al recurso  en cuestión  tornándose  así inadmisible el \n",
      "planteamiento. El acto impugnativo debe bastarse a sí mismo.  -\n",
      "El impugnante en autos no ha dado cumplimiento  a este requisito.-\n",
      "Con lo que se dio por terminado el acto firmando S.S.E.E.,  todo por ante \n",
      "mí que lo certifico, quedando acordada  la sentencia  que inmediatamente  \n",
      "sigue: \n",
      "ACUERDO Y SENTENCIA\n",
      "VISTOS: Los méritos del acuerdo que antecede, la Excelentísima;  -\n",
      "CORTE SUPREMA DE JUSTICIA\n",
      "SALA PENAL\n",
      "R E S U E L V E:\n",
      "DECLARAR INADMISIBLE el Recurso de Casación  interpuesto contra  el \n",
      "Acuerdo y Sentencia  Nº 155 de fecha 05 de octubre  de 2022 , dictado por \n",
      "el Tribunal de Apelación  Penal  de la Circunscripción Judicial de Central.-\n",
      "ANOTAR, registrar y notificar.-\n",
      "Para conocer la\n",
      "validez del\n",
      "documento,\n",
      "verifique aquí.\n",
      " \n"
     ]
    }
   ],
   "source": [
    "print(df['text'][0])"
   ]
  },
  {
   "cell_type": "markdown",
   "metadata": {},
   "source": [
    "### Process single PDF with Google Cloud Vision just to show the difference"
   ]
  },
  {
   "cell_type": "code",
   "execution_count": 3,
   "metadata": {},
   "outputs": [
    {
     "name": "stdout",
     "output_type": "stream",
     "text": [
      "Processing page 1...\n",
      "Processing page 2...\n",
      "Processing page 3...\n",
      "Processing page 4...\n",
      "Processing page 5...\n"
     ]
    }
   ],
   "source": [
    "google_text = ocr.pdf2text('corpus/descargados/47095.pdf')\n",
    "\n",
    "with open('corpus/google_text_47095_PDF.txt', 'w') as f:\n",
    "    f.write(google_text)"
   ]
  },
  {
   "cell_type": "code",
   "execution_count": 6,
   "metadata": {},
   "outputs": [],
   "source": [
    "df = pd.read_csv('corpus/corpus.csv')\n",
    "\n",
    "# Get the text of the row with codigo 47095\n",
    "text = df[df['Codigo'] == 47095]['text'].values[0]\n",
    "\n",
    "with open('corpus/47095_PDF.txt', 'w') as f:\n",
    "    f.write(text)"
   ]
  },
  {
   "cell_type": "code",
   "execution_count": 1,
   "metadata": {},
   "outputs": [],
   "source": [
    "import pandas as pd\n",
    "\n",
    "df1 = pd.read_csv('google_ocr_results_400.csv')\n",
    "df2 = pd.read_csv('google_ocr_results.csv')"
   ]
  },
  {
   "cell_type": "code",
   "execution_count": 2,
   "metadata": {},
   "outputs": [],
   "source": [
    "# concatenate the two dataframes\n",
    "df = pd.concat([df1, df2], ignore_index=True)"
   ]
  },
  {
   "cell_type": "code",
   "execution_count": 3,
   "metadata": {},
   "outputs": [
    {
     "data": {
      "text/html": [
       "<div>\n",
       "<style scoped>\n",
       "    .dataframe tbody tr th:only-of-type {\n",
       "        vertical-align: middle;\n",
       "    }\n",
       "\n",
       "    .dataframe tbody tr th {\n",
       "        vertical-align: top;\n",
       "    }\n",
       "\n",
       "    .dataframe thead th {\n",
       "        text-align: right;\n",
       "    }\n",
       "</style>\n",
       "<table border=\"1\" class=\"dataframe\">\n",
       "  <thead>\n",
       "    <tr style=\"text-align: right;\">\n",
       "      <th></th>\n",
       "      <th>codigo</th>\n",
       "    </tr>\n",
       "  </thead>\n",
       "  <tbody>\n",
       "    <tr>\n",
       "      <th>count</th>\n",
       "      <td>4201.000000</td>\n",
       "    </tr>\n",
       "    <tr>\n",
       "      <th>mean</th>\n",
       "      <td>71269.064508</td>\n",
       "    </tr>\n",
       "    <tr>\n",
       "      <th>std</th>\n",
       "      <td>20318.928857</td>\n",
       "    </tr>\n",
       "    <tr>\n",
       "      <th>min</th>\n",
       "      <td>24764.000000</td>\n",
       "    </tr>\n",
       "    <tr>\n",
       "      <th>25%</th>\n",
       "      <td>52721.000000</td>\n",
       "    </tr>\n",
       "    <tr>\n",
       "      <th>50%</th>\n",
       "      <td>75973.000000</td>\n",
       "    </tr>\n",
       "    <tr>\n",
       "      <th>75%</th>\n",
       "      <td>86614.000000</td>\n",
       "    </tr>\n",
       "    <tr>\n",
       "      <th>max</th>\n",
       "      <td>102577.000000</td>\n",
       "    </tr>\n",
       "  </tbody>\n",
       "</table>\n",
       "</div>"
      ],
      "text/plain": [
       "              codigo\n",
       "count    4201.000000\n",
       "mean    71269.064508\n",
       "std     20318.928857\n",
       "min     24764.000000\n",
       "25%     52721.000000\n",
       "50%     75973.000000\n",
       "75%     86614.000000\n",
       "max    102577.000000"
      ]
     },
     "execution_count": 3,
     "metadata": {},
     "output_type": "execute_result"
    }
   ],
   "source": [
    "df.describe()"
   ]
  },
  {
   "cell_type": "code",
   "execution_count": 5,
   "metadata": {},
   "outputs": [
    {
     "name": "stdout",
     "output_type": "stream",
     "text": [
      "Series([], Name: count, dtype: int64)\n"
     ]
    }
   ],
   "source": [
    "# check if there is a codigo that appears more than once\n",
    "counts = df['codigo'].value_counts()\n",
    "\n",
    "# Filtering values that appear more than once\n",
    "more_than_once = counts[counts > 1]\n",
    "\n",
    "print(more_than_once)   # making sure there is no duplicated entry"
   ]
  },
  {
   "cell_type": "code",
   "execution_count": 6,
   "metadata": {},
   "outputs": [],
   "source": [
    "# save df to a CSV file\n",
    "df.to_csv('google_ocr_results_complete.csv', index=False)"
   ]
  },
  {
   "cell_type": "code",
   "execution_count": 7,
   "metadata": {},
   "outputs": [],
   "source": [
    "corpus_df = pd.read_csv('corpus/corpus.csv')"
   ]
  },
  {
   "cell_type": "code",
   "execution_count": 8,
   "metadata": {},
   "outputs": [
    {
     "name": "stdout",
     "output_type": "stream",
     "text": [
      "Index(['Codigo', 'Titulo', 'Fecha de la Resolución Judicial',\n",
      "       'Número resolución judicial', 'Tipo', 'Sala', 'Preopinante', 'Materia',\n",
      "       'Accion resuelta', 'Resultado de la acción',\n",
      "       'Tribunal o juzgado de origen', 'Nueva Fecha Resolución Judicial',\n",
      "       'Mes Resolución Judicial', 'Semestre Resolución Judicial',\n",
      "       'Año Resolución Judicial', 'label', 'text'],\n",
      "      dtype='object')\n"
     ]
    }
   ],
   "source": [
    "print(corpus_df.columns)"
   ]
  },
  {
   "cell_type": "code",
   "execution_count": 9,
   "metadata": {},
   "outputs": [
    {
     "name": "stdout",
     "output_type": "stream",
     "text": [
      "Index(['codigo', 'text'], dtype='object')\n"
     ]
    }
   ],
   "source": [
    "print(df.columns)"
   ]
  },
  {
   "cell_type": "code",
   "execution_count": 10,
   "metadata": {},
   "outputs": [],
   "source": [
    "# replace texts in text column with the ones from google_ocr_results_complete.csv (df) where codigo matches\n",
    "for index, row in df.iterrows():\n",
    "    codigo = row['codigo']\n",
    "    text = row['text']\n",
    "    corpus_df.loc[corpus_df['Codigo'] == codigo, 'text'] = text"
   ]
  },
  {
   "cell_type": "code",
   "execution_count": 11,
   "metadata": {},
   "outputs": [],
   "source": [
    "# save the updated corpus to a new CSV file\n",
    "corpus_df.to_csv('corpus/corpus_google.csv', index=False)"
   ]
  },
  {
   "cell_type": "code",
   "execution_count": 12,
   "metadata": {},
   "outputs": [
    {
     "data": {
      "text/html": [
       "<div>\n",
       "<style scoped>\n",
       "    .dataframe tbody tr th:only-of-type {\n",
       "        vertical-align: middle;\n",
       "    }\n",
       "\n",
       "    .dataframe tbody tr th {\n",
       "        vertical-align: top;\n",
       "    }\n",
       "\n",
       "    .dataframe thead th {\n",
       "        text-align: right;\n",
       "    }\n",
       "</style>\n",
       "<table border=\"1\" class=\"dataframe\">\n",
       "  <thead>\n",
       "    <tr style=\"text-align: right;\">\n",
       "      <th></th>\n",
       "      <th>Codigo</th>\n",
       "      <th>Número resolución judicial</th>\n",
       "      <th>Mes Resolución Judicial</th>\n",
       "      <th>Año Resolución Judicial</th>\n",
       "      <th>label</th>\n",
       "    </tr>\n",
       "  </thead>\n",
       "  <tbody>\n",
       "    <tr>\n",
       "      <th>count</th>\n",
       "      <td>5000.000000</td>\n",
       "      <td>5000.000000</td>\n",
       "      <td>5000.0000</td>\n",
       "      <td>5000.00000</td>\n",
       "      <td>5000.000000</td>\n",
       "    </tr>\n",
       "    <tr>\n",
       "      <th>mean</th>\n",
       "      <td>64139.944800</td>\n",
       "      <td>609.684400</td>\n",
       "      <td>72131.6630</td>\n",
       "      <td>2017.66300</td>\n",
       "      <td>0.190600</td>\n",
       "    </tr>\n",
       "    <tr>\n",
       "      <th>std</th>\n",
       "      <td>24848.501203</td>\n",
       "      <td>473.741576</td>\n",
       "      <td>31753.8983</td>\n",
       "      <td>3.79783</td>\n",
       "      <td>0.392814</td>\n",
       "    </tr>\n",
       "    <tr>\n",
       "      <th>min</th>\n",
       "      <td>22512.000000</td>\n",
       "      <td>1.000000</td>\n",
       "      <td>12014.0000</td>\n",
       "      <td>2011.00000</td>\n",
       "      <td>0.000000</td>\n",
       "    </tr>\n",
       "    <tr>\n",
       "      <th>25%</th>\n",
       "      <td>40029.500000</td>\n",
       "      <td>232.000000</td>\n",
       "      <td>42022.0000</td>\n",
       "      <td>2014.00000</td>\n",
       "      <td>0.000000</td>\n",
       "    </tr>\n",
       "    <tr>\n",
       "      <th>50%</th>\n",
       "      <td>69483.500000</td>\n",
       "      <td>507.500000</td>\n",
       "      <td>72018.0000</td>\n",
       "      <td>2019.00000</td>\n",
       "      <td>0.000000</td>\n",
       "    </tr>\n",
       "    <tr>\n",
       "      <th>75%</th>\n",
       "      <td>85612.250000</td>\n",
       "      <td>864.000000</td>\n",
       "      <td>102014.0000</td>\n",
       "      <td>2021.00000</td>\n",
       "      <td>0.000000</td>\n",
       "    </tr>\n",
       "    <tr>\n",
       "      <th>max</th>\n",
       "      <td>102577.000000</td>\n",
       "      <td>2551.000000</td>\n",
       "      <td>122023.0000</td>\n",
       "      <td>2023.00000</td>\n",
       "      <td>1.000000</td>\n",
       "    </tr>\n",
       "  </tbody>\n",
       "</table>\n",
       "</div>"
      ],
      "text/plain": [
       "              Codigo  Número resolución judicial  Mes Resolución Judicial  \\\n",
       "count    5000.000000                 5000.000000                5000.0000   \n",
       "mean    64139.944800                  609.684400               72131.6630   \n",
       "std     24848.501203                  473.741576               31753.8983   \n",
       "min     22512.000000                    1.000000               12014.0000   \n",
       "25%     40029.500000                  232.000000               42022.0000   \n",
       "50%     69483.500000                  507.500000               72018.0000   \n",
       "75%     85612.250000                  864.000000              102014.0000   \n",
       "max    102577.000000                 2551.000000              122023.0000   \n",
       "\n",
       "       Año Resolución Judicial        label  \n",
       "count               5000.00000  5000.000000  \n",
       "mean                2017.66300     0.190600  \n",
       "std                    3.79783     0.392814  \n",
       "min                 2011.00000     0.000000  \n",
       "25%                 2014.00000     0.000000  \n",
       "50%                 2019.00000     0.000000  \n",
       "75%                 2021.00000     0.000000  \n",
       "max                 2023.00000     1.000000  "
      ]
     },
     "execution_count": 12,
     "metadata": {},
     "output_type": "execute_result"
    }
   ],
   "source": [
    "corpus_df.describe()"
   ]
  }
 ],
 "metadata": {
  "kernelspec": {
   "display_name": "Python 3",
   "language": "python",
   "name": "python3"
  },
  "language_info": {
   "codemirror_mode": {
    "name": "ipython",
    "version": 3
   },
   "file_extension": ".py",
   "mimetype": "text/x-python",
   "name": "python",
   "nbconvert_exporter": "python",
   "pygments_lexer": "ipython3",
   "version": "3.10.12"
  }
 },
 "nbformat": 4,
 "nbformat_minor": 2
}
