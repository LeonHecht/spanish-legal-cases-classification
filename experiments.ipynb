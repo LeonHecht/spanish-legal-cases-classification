{
 "cells": [
  {
   "cell_type": "markdown",
   "metadata": {},
   "source": [
    "# Notebook to run multiple experiments automatically"
   ]
  },
  {
   "cell_type": "code",
   "execution_count": null,
   "metadata": {},
   "outputs": [],
   "source": [
    "# Constants\n",
    "epochs = 5\n",
    "batch_size = 4\n",
    "weight_decay = 0.01\n",
    "learning_rate = 2e-5\n",
    "warmup_steps = 1000\n",
    "metric_for_best_model = \"f1\"\n",
    "early_stopping_patience = 4\n",
    "max_length = 1024\n",
    "stride = 512\n",
    "\n",
    "hyperparameters = {\n",
    "    'epochs': epochs,\n",
    "    'batch_size': batch_size,\n",
    "    'weight_decay': weight_decay,\n",
    "    'learning_rate': learning_rate,\n",
    "    'warmup_steps': warmup_steps,\n",
    "    'metric_for_best_model': metric_for_best_model,\n",
    "    'early_stopping_patience': early_stopping_patience,\n",
    "    'max_length': max_length,\n",
    "    'stride': stride,\n",
    "    'use_weighted_loss': False\n",
    "    }"
   ]
  },
  {
   "cell_type": "code",
   "execution_count": null,
   "metadata": {},
   "outputs": [],
   "source": [
    "# model_checkpoint = 'mrm8488/longformer-base-4096-spanish-finetuned-squad'\n",
    "# model_checkpoint = 'state-spaces/mamba2-130m'\n",
    "model_checkpoint = 'Narrativa/legal-longformer-base-4096-spanish'"
   ]
  },
  {
   "cell_type": "code",
   "execution_count": null,
   "metadata": {},
   "outputs": [],
   "source": [
    "# corpus_path='corpus/cleaned_corpus_google_sin_resuelve.csv'\n",
    "# corpus_path='corpus/corpus.csv'\n",
    "corpus_path4='corpus/corpus_google_min_line_len4_min_par_len2.csv'\n",
    "corpus_path2='corpus/corpus_google_min_line_len2_min_par_len2.csv'"
   ]
  },
  {
   "cell_type": "code",
   "execution_count": null,
   "metadata": {},
   "outputs": [],
   "source": [
    "experiments = [\n",
    "    {\n",
    "        'name': 'excel sheet line 23',\n",
    "        'hyperparameters': hyperparameters,\n",
    "        'model_checkpoint': model_checkpoint,\n",
    "        'corpus_path': corpus_path4\n",
    "    },\n",
    "    {\n",
    "        'name': 'excel sheet line 24',\n",
    "        'hyperparameters': hyperparameters,\n",
    "        'model_checkpoint': model_checkpoint,\n",
    "        'corpus_path': corpus_path2\n",
    "    },\n",
    "]"
   ]
  },
  {
   "cell_type": "code",
   "execution_count": null,
   "metadata": {},
   "outputs": [],
   "source": [
    "import main\n",
    "\n",
    "for experiment in experiments:\n",
    "    print(\"---------------------------------------------\")\n",
    "    print(f\"\\n\\nRunning experiment {experiment['name']}\")\n",
    "    print(f\"Hyperparameters: {experiment['hyperparameters']}\")\n",
    "    print(f\"Model checkpoint: {experiment['model_checkpoint']}\")\n",
    "    print(f\"Corpus path: {experiment['corpus_path']}\\n\\n\")\n",
    "    print(\"---------------------------------------------\")\n",
    "\n",
    "    main.run_experiment(hyperparameters=experiment['hyperparameters'],\n",
    "                        model_checkpoint=experiment['model_checkpoint'],\n",
    "                        corpus_path=experiment['corpus_path'],\n",
    "                        mamba=False,\n",
    "                        read_datasets=False)"
   ]
  }
 ],
 "metadata": {
  "kernelspec": {
   "display_name": "Python 3",
   "language": "python",
   "name": "python3"
  },
  "language_info": {
   "name": "python",
   "version": "3.10.12"
  }
 },
 "nbformat": 4,
 "nbformat_minor": 2
}
