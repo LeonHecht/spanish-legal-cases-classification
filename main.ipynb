{
  "cells": [
    {
      "cell_type": "markdown",
      "metadata": {},
      "source": [
        "## Print Start time"
      ]
    },
    {
      "cell_type": "code",
      "execution_count": 1,
      "metadata": {},
      "outputs": [
        {
          "name": "stdout",
          "output_type": "stream",
          "text": [
            "------------------------------------------------\n",
            "Start-Time\n",
            "2024-09-24 16:29:58\n",
            "------------------------------------------------\n"
          ]
        }
      ],
      "source": [
        "from utils import print_time\n",
        "\n",
        "print_time.print_(\"Start-Time\")"
      ]
    },
    {
      "cell_type": "markdown",
      "metadata": {},
      "source": [
        "## Hyperparameters"
      ]
    },
    {
      "cell_type": "code",
      "execution_count": 2,
      "metadata": {},
      "outputs": [],
      "source": [
        "# Constants\n",
        "epochs = 30\n",
        "batch_size = 16\n",
        "weight_decay = 0.01\n",
        "learning_rate = 2e-5\n",
        "warmup_steps = 1000\n",
        "metric_for_best_model = \"f1\"\n",
        "early_stopping_patience = 6\n",
        "max_length = 512\n",
        "\n",
        "hyperparameters = {\n",
        "    'epochs': epochs,     # 1. Baseline\n",
        "    'batch_size': batch_size,\n",
        "    'weight_decay': weight_decay,\n",
        "    'learning_rate': learning_rate,\n",
        "    'warmup_steps': warmup_steps,\n",
        "    'metric_for_best_model': metric_for_best_model,\n",
        "    'early_stopping_patience': early_stopping_patience,\n",
        "    'max_length': max_length,\n",
        "    'use_weighted_loss': False\n",
        "    }"
      ]
    },
    {
      "cell_type": "markdown",
      "metadata": {},
      "source": [
        "## Specify Model"
      ]
    },
    {
      "cell_type": "code",
      "execution_count": 3,
      "metadata": {},
      "outputs": [],
      "source": [
        "# model_checkpoint = 'mrm8488/longformer-base-4096-spanish-finetuned-squad'\n",
        "# model_checkpoint = 'state-spaces/mamba2-130m'\n",
        "model_checkpoint = 'Narrativa/legal-longformer-base-4096-spanish'\n",
        "# model_checkpoint = 'distilbert-base-uncased'\n",
        "# model_checkpoint = 'roberta-base'\n",
        "# model_checkpoint = 'bert-large-uncased'\n",
        "# model_checkpoint = 'xlnet-base-cased'\n",
        "# model_checkpoint = 'xlnet-large-cased'\n",
        "# model_checkpoint = 'xlm-roberta-large'\n",
        "# model_checkpoint = 'microsoft/deberta-v2-xxlarge'"
      ]
    },
    {
      "cell_type": "markdown",
      "metadata": {},
      "source": [
        "## Load df"
      ]
    },
    {
      "cell_type": "code",
      "execution_count": 4,
      "metadata": {},
      "outputs": [],
      "source": [
        "import pandas as pd\n",
        "\n",
        "corpus_path='corpus/corpus_final_corregido.txt'\n",
        "df = pd.read_csv(corpus_path, sep='\\t', usecols=['Contenido Txt', 'Resultado binario de la acción'])\n",
        "\n",
        "# rename columns\n",
        "df.rename(columns = {'Contenido Txt':'text', 'Resultado binario de la acción':'label'}, inplace = True)"
      ]
    },
    {
      "cell_type": "code",
      "execution_count": 5,
      "metadata": {},
      "outputs": [],
      "source": [
        "# # Separate the entries with label 1\n",
        "# df_label_1 = df[df['label'] == 1]\n",
        "\n",
        "# # Randomly sample the same number of entries from label 0\n",
        "# df_label_0 = df[df['label'] == 0].sample(n=len(df_label_1), random_state=42)\n",
        "\n",
        "# # Combine both balanced subsets\n",
        "# df = pd.concat([df_label_1, df_label_0])\n",
        "\n",
        "# # Shuffle the combined DataFrame to mix label 0 and 1\n",
        "# df = df.sample(frac=1, random_state=42)"
      ]
    },
    {
      "cell_type": "code",
      "execution_count": 6,
      "metadata": {},
      "outputs": [],
      "source": [
        "# cut df to X rows\n",
        "df = df[:1000]"
      ]
    },
    {
      "cell_type": "code",
      "execution_count": 7,
      "metadata": {},
      "outputs": [
        {
          "name": "stdout",
          "output_type": "stream",
          "text": [
            "                                                text  label\n",
            "0  1 expediente recurso extraordinario de casacio...      0\n",
            "1  expediente recurso extraordinario de casación ...      0\n",
            "2  lowe oc corte expte nestor valentin gonzalez s...      0\n",
            "3  expediente recurso extraordinario de re cx cas...      0\n",
            "4  expediente recurso de casacion interpuesto por...      0\n"
          ]
        }
      ],
      "source": [
        "print(df.head())"
      ]
    },
    {
      "cell_type": "code",
      "execution_count": 9,
      "metadata": {},
      "outputs": [
        {
          "name": "stdout",
          "output_type": "stream",
          "text": [
            "1 expediente recurso extraordinario de casacion interpuesto por el sr hans friedich schuchardt en la causa ivan yegros y otros s defraudacion, i falsificacion de instrumentos publicos yy cuerdo y sentencia numero noyecventos, sesenta 4 ocho ta en aaggincién del paraguay, a los tyece, seeeseees del mes ee reno cece del afio dos mil yec it ig reunidos en la sala de acuerdos los excelentisimos doctores alicia beatriz pucheta de correa, sindulfo blanco y josé ratl torres k., quien integra la sala penal en reemplazo del dr wildo rienzi galeano, por ante mi, el secretaria autorizante, ser trajo para acuerdo el expediente caratulado recurso extraordinario de casacion interpuesto por el sr hans friedich schuchardt en la causa ivan yegros y otros s defraudacion, falsificacion de instrumentos publicos y otros , a fin de resolver el recurso extraordinario de casacién interpuesto por ei sr hans friedich schuchardt por derecho propio y bajo patrociniol del abogado fabio cuevas storm en contra de la s.d n 22 de, fecha 25 de octubre de 1999 dictada por el juzgado de primera instancia en lo criminal del noveno turno y contra el acuerdo ys sentencia n 136 de fecha 13 de diciembre del 2004, dictada por el tribunal de apelaciones en lo penal, 12 sala de la t circunscripcién judicial de la capital sorc r cer r crs rts rcce previo estudio de los antecedentes del caso, la corte suprema de justicia, sala penal, resolvié plantear y votar las, sigulentes rere rrr nnn nn nena it cc uestiones 1 ges admisible para su estudio el recurso de casacién interpuesto 2 en su caso, jresulta procedente a los efectos del andlisis correspondiente de las cuest iones a ser estudiadas y con el objeto de establecer un orden en lat emisién de losg votos, se procede al sorteo, arrojando el siguiente resultadd blanco pucheta de correa y torres ido levera abog- 4 e aéretario otros i i i 4 a la primera cuestién planteada, el doctor sindulfo blanco, dijo se presenta el sr hans friedich schuchardt por dérecho propio y bajo patrocinio del abogado fabio arnaldo cuevas storm y presenta recurso extraordinario de casacién contra la s.d n 22 de fecha 25 de octubre de 1999 dictado por el juzgado de primera instancia en lo criminal del noveno turno y el acuerdo y sentencia n 136 de fecha 13 de diciembre del 2004 dictado por el tribunal de apelacién en lo criminal primera sala tomando en consideracién que el recurrente impugna dos resoluciones dictadas en la presente causa, a los efectos de un orden en el analisis de los agravios formulados, corresponde la divisién en su estudio, procediendo en primer término determinar si la resolucién de primera instancia es objetivamente impugnable ante esta instancia y lo pertinente respecto a la resolucién de segunda instancia n nnn 1 recurso de casacién interpuesto contra la s.d n 22 de fecha 25 de octubre de 1999 dictada en primera instancia el articulo 477 del cédigo procesal penal, dispone en relacién al objeto del recurso solo podra deducirse el recurso extraordinario de casacién contra las sentencias definitivas el tribunal de apelaciones o contra las sentencias definitivas del tribunal de apelaciones o contra aquellas decisiones de ese tribunal que pongan fin al procedimiento, extingan la accién o la pena, o denieguen la extincidn, conmutacién o suspensidén de la pena por otro lado, 479 del mismo cuerpo legal dispone casacion directa cuando una sentencia de primera instancia pueda ser impugnada por algunos de los motivos establecidos en el articulo anterior, se podrad interponer directamente el recurso extraordinario de casacion, nn nnn nnn nnn nn nnn nnn nnn nnn nnn nnn nnn nnn conforme a la sistematica de la norma ritual, el recurso extraordinario de casacién puede ser impetrado contra resoluciones de primera instancia taxativamente determinadas y contra resoluciones de primera instancia, siempre que se verifiquen ciertos presupuestos de admisibilidad y procedencia la primera de las posibilidades es denominada doctrinariamente como casacién per saltum la interposicién del recurso de la 3 expediente recurso extraordinario de casacion interpuesto por el sr hans, priedich schuchardt en la causa ivan yegros y otros s defraudacion, falsificacion de instrumentos publicos y otros l en cuestién por un tribunal de apelacion, interpretando, ario sensu, si la impugnacidn es realizada ante el en este caso, el recurrente opto por la segunda posibilidad, , gomo consta en autos, puesto que interpuso el recurso de apelacién especial ante el tribunal de apelacién, el que se pronuncié en consecuencia, y contra el que también se alza ell recurrente, por lo que la oportunidad de impugnar la resolucidnf de primera instancia, via casacién directa, a esta altura, esta preclusa, resultando extemporadnea la pretensidn del impugnante, por lo que corresponde su rechazzo 95 nnn nnn nnn nnn asimismo, conforme a la norma del art 477 corresponde el recurso contra resoluciones definitivas o que pongan fin a procedimiento, dictadas por el tribunal de apelacién y no se, establece que se puede interponer conjuntamente o en format acumulativa, respecto a resoluciones de primera instancia respecto a la interpretacién de la misma, la sala penal se hat pronunciado en el acuerdo y sentencia n 1644 de fecha 23 del noviembre del 2004 en este punto, la norma resulta de por si suficientemente clarificadora la disponer taxativamente que 1al forma de su interposicién debe limitarse a la impugnacion de 1a sentencia del tribunal de apelaciones , y no como hizo el i recurrente expresar agravios indistintamente contra la resolucién eh de la camara y del a-quo consecuentemente, tal planteamientd deviene improcedente en cuanto al estudio de los consignadd contra la decisidn recaida en primera instancia, siendd procedente si, entrar a estudiar la viabilidad de los argumentos vertidos en contra de la sentencia del tribunal de apelaciones - no corresponde el estudio del recurs9 consecuentemente, interpuesto con al arnaido levera secretario a o 5 2 recurso de casacién interpuesto contra el acuerdo y sentencia n 136 de fecha 13 de diciembre del 2004 dictada por el tribunal de apelacién en lo penal 1 sala de la circunscripeién judicial de la capital en efecto, de acuerdo a las constancias de autos, la resolucién recurrida, es un acuerdo y sentencia que confirma un fallo de primera instancia s.d n 22 de fecha 25 de octubre de 1999, que impuso a hans friedich schuchardt la pena privativa de libertad de ocho anos , situacién esta que evidencia el caracter de definitiva y extintiva del procedimiento, por lo que la resolucién recurrida se torna pasible de ser revisada por la via de la casacién impetrada por otro lado, conforme a lo dispuesto por el art 480 del c.p.p., en concordancia con el art 468 del mismo cuerpo legal, la impugnacién debe interponerse en un plazo de diez dias de notificada la resolucién, lo que en este caso se verifica, puesto que tal como lo afirma el representante del ministerio publico no hay constancia de notificacién personal al condenado, conforme lo disponen los articulos 153 y 155 del c.p.p., por lo que se lo tiene por notificado al momento de interponer el recurso respectivo por ultimo, arguye como motivo casacional lo dispuesto por el art 478 inc 3 del c.p.p enna ahora bien, el impugnante, present6é ademés a la sala penal una peticién de declaracién de prescripcién de la accién penal en la presente causa en fecha 19 de julio del 2007, la cual fue sustanciada corriéndose traslado al representante de la querella como al ministerio piblico nnn nnn nnn nnn nnn en ese sentido, ésta sala penal de la corte suprema de justicia de una manera coincidente y constante viene afirmando que toda cuestién que involucre la duracién del proceso penal garantia del plazo razonable debe ser estudiada con preeminencia a cuestiones formales e incluso de fondo, puesto que implica la posibilidad de que la causa iniciada al procesado se haya extendido en el tiempo mas alla de lo que la ley especificamente reglamenta, con lo cual una extensién del mismo constituiria el proceso en arbitrario e ilegal, en afectacion ap j 5 casacion interpuesto por el sr hans friedich schuchardt en la causa ivan yegros y otros s defraudacion, falsificacion de instrumentos publicos y otros mencionado principio consecuentemente, de una manera poo , u dicho criterio ya ha sido sostenido en los siguientes casos adiente recurso extraordinario de casacion interpuesto por el defensor publico abog carlos flores cartes en la causa cristhian ever reyes s robo agravado acuerdo y sentencia n 1474 de fecha 11 de diciembre del 2006 en el recurso extraordinario de casacion interpuesto por el abog carlos britez cardenas en los autos enrique garcia y jose leopoldo mendoza s exp h.p.c la vida, homicidio culposo acuerdo y sentencia n 1154 de fecha 15 de diciembre del 2005 dictado en la causa recurso extrordinario de casacion interpuesto ppor el abog favio manuel, ramos villasboa en la causa olimpio araujo s homicidio doloso en yuty y auto interlocutorio n 1060 de fecha 02 de julio dei 2007 dictado en el expediente recurso extraordinario de casacion interpuesto por los agentes fiscales abog alba maria delvalle ral abog rene fernandez bobadilla en la causa valeria sara mercedes ortiz de esteche, nelson eugenio mendez morinigo, ramon a guillen, dionisio coronel y otros s lesion de confianza asociacion criminal 3-9 n ner rrr rr rrr rn 1 la defensa sostiene que debe tenerse presente que la causal inicié en el afio 1996 y que es debido considerar que a los efectos legales, es la disposicién del tipo base de la norma por la que fue condenado el procesado art 29 y 192 inc 2 del c.p., i 14 de la c.n., 5 inc 3 del c.p y 4 del c.p.p , la que debe primar sostiene, reafirmando sus agravios, que como para el computo del plazh we duracién de la causa para la prescripcién se abog afnaildo levera expediente recurso extraordinario ahteri s al estudio de las peticiones formuladas primigeniamente aduerdo y sentencia n 16 de fecha 13 de febrero del 2007 en ell secretario 1d ese ee ss os interrupcién y coémputo del doble del plazo de prescripcién, luego de lo cual resulta de acuerdo a sus afirmaciones claro sostener que la causa que se le sigue ha prescripto 3 nm nna nn tanto el ministerio puiblico como la querella se oponen a la pretensién para el 6rgano acusador la etapa procesal para la peticién formulada la precluido por otro lado, la querella afirma fs 354 362 , en cuanto a la extincién de la accién penal que por imperio de la ley 1444 no es posible aplicar lo dispuesto por el art 136 del c.p.p., en razén en que el presente proceso file sustanciado conforme a las disposiciones de la anterior ley procesal, y no esta permitido integrar normas procesales de una y otra ley, 2922 2-22-22 eee por otro lado, en cuanto a la prescripcién de la accién penal afirma que el cédigo penal no contempla el instituto de la prescripcién de la accién penal, sino el de la sancién penal, por lo cual no es posible declararla en la presente causa en cuanto a lo alegado por el representante del ministerio publico, preclusién de la etapa para solicitar la prescripcidén de la accién penal, la sala penal de la corte suprema ha sefialado, cémo anteriormente se ha resefiado, que tanto la extincidén de la accién penal, como la prescripcién de la accién puede ser articulada e incluso estudiada de oficio por el s6rgano jurisdiccional en cualquier etapa de la investigacién, puesto que al estar implicado el principio de plazo razonable de juzgamiento, implica una cuestién de orden putblico, en directa aplicacién a lo dispuesto por el art 17 de la c.n y art 8 del pacto de san josé de costa rica 9 nn nnn nnn nn nnn nnn efectivamente, ante la alegacién similar del ministerio piblico preclusién del derecho de peticionar la prescripcién de la accién penal se ha respondido, por los dos ministros de la sala penal que hemos emitido opinién, que lo atinente al plazo razonable su andlisis y pronunciamiento en cualquier etapa del proceso auto interlocutorio n 1060 de fecha 02 de julio del 2007 dictado en el expediente recurso extraordinario bde casacion interpuesto por los agentes fiscales abog alnba maria delvalle y abog rene fernandez bobadilla en la causa valeria sara mercedes ortiz de esteche, nestor eugenio mendez morinigo, 7 expediente recurso extraordinario de casacion interpuesto por el sr hans, friedich schuchardt en la causa ivan yegros y otros s defraudacion, falsificacion de instrumentos publicos y otros eek oat aeqsutllen, dionisio coronel y otros s lesion de confianza ee on va re ry ange taérecho de fondo, corresponde pronunciarse sobre la supuesta inexistencia del instituto de la prescripcién de la accién en el soclacion criminal sra bien, por tratarse de una cuestién sustancial, propia cédigo penal y si fuera necesario, posteriormente lo relativo al imstituto procesal de la extincién de la accién penal el representante de la querella sostiene que no puede declararse la prescripcién de la accién penal por cuanto la ley penal sustantiva solo contiene la previsién de una prescripcidén de la sancién penal en cuanto a ello es menester realizar ciertas precisiones, 3-95 nnn ene nner errr la doctrina determina que existen ambas especies la prescripcién de la accién penal que impide la prosecucion de la causa, cuando en la misma, trascurrido los plazos previstos en qa j ley, no se ha dictado sentencia definitiva firme con lo cual la accién presentada no ha llegado a su consecuencia natural la redefinicién del conflicto a través de una norma juridicas particular aplicable sdédlo a las partes, en otras palabras, unal sentencia judicial 3-5-9 nnn nnn nnn nnn nnn la prescripcién de la sancién penal por otro lado implica que una vez dictada una sentencia definitiva de condena, la misma no es cumplida, por el motivo que fuere, con lo cual, aun cuando se hay redefinido el conflicto, la solucién dispuesta por al érgano jurisdiccional sin embargo no tiene virtualidad practica y va diluyéndose con el trascurso del tiempo s igualmente, ha sefialado en relacién a la prescripcién de la pena la prescripcién de a pena no atenta contra el derecho persecutorio a su imposicién o cumplimiento, sino que hace referencia especifica al incumplimiento de una pena ya establecida by jeti i ira- por el instituto de la prescripcio abogarnaldo levera secretario resolucién en punto a la exigencia de su ejecutoriedad sproviero juan, prescripcién de la accién y de la pena, p 42, editorial abaco de rodolfo desalma, bs as argentina, 2001 afirma ademas que el computo del plazo para la prescripcién de la pena se contabiliza a partir de dictado de la sentencia definitiva firme, sea que haya sido notificada a la defensa o al condenado en relacién a ello existe una fuerte discusién doctrinaria sproviero juan, ob.cit p 34 en ese orden de cosas, en cuanto al cdmputo de la prescripcién de la sancioén penal, la jurisprudencia argentina citada por la doctrina sostuvo .la prescripcién de la pena se opera por el trascurso el termino de ella .se debe concluir en que la pena impuesta en sentencia de 2 instancia conlleva que corra la prescripcién desde que de algtin modo legalmente notificado el encausado y a que el dispositivo adquiere el caraécter de definitivo e irrevocable hernandez carolina, accidén y prescripcién en el derecho penal, p 190 1, editorial juris, rosario argentina, afio 2000 rn nnn rrr consecuentemente, presupuestos para la prescripcién de la sancién penal constituyen 1 que exista una sentencia firme 2 que la misma no pueda ser ejecutada 3 el plazo de la prescripcion es igual al trascurso del tiempo de condena sin que la misma haya sido ejecutada, 9-52 nnn nnn nena sobre la misma cuestién, la sala penal de la corte suprema de justicia, en mayoria ha dicho .la prescripcién de la pena suele operar por el trascurso de los lapsos sefialados para cada pena el plazo prescripto corre desde que al reo se le notifica la sentencia o desde que quebranta la condena la diferencia fundamental con la prescripcidén de la accién radica en que la de la pena exige que haya habida una sentencia impuesta a un determinado procesado acuerdo y -sentencia n 1144 de fecha 14 de diciembre del 2005 dictado en la causa recurso de revisién interpuesto por el abog amilcar ayala bonzi en los autos caratulados paulino maldonado silvero y otros s robo agravado y reduccion en ciudad del este abos 9 expediente recurso extraordinario de casacion interpuesto por el sr hans friedich schuchardt en la causa ivan yegros y otros s defraudacion, falsificacion de instrumentos publicos yl otros wocigeramente, el cédigo penal en el art 101 establece 1 norma che a de que el transcurso del tiempo extingue la sancion , aay, sh la cual se configura la previsién de la primera de tas oe de la prescripcién la de la pena t por otro lado, ello no implica que la norma penal no ia considere o contenga el art 102 del mismo cuerpo legal termina los plazos para la prescripcién de los hechos punibles, 4 ighalmente determina el inicio y forma del cdémputo, lo cual claramente alude a la prescripcién de la accién penal, ya que, como se ha visto, la prescripcién de la sancién penal requiere de presupuestos especificos y lo que la ley penal reconocen son presupuestos para la procedencia, suspensién e interrupcién de la prescripcion, en este caso de la acci6én sumado a ello, debe considerarse ademds que atin cuando en la, presente causa fueron dictadas la .d n 22 de fecha 25 de octubre de 1999 por el juzgado de primera instancia en lo criminal del 9 turno que condenéd al recurrente hans fbeedrica schuchardt mayer a la pena privativa de libertad de ocho afios, y el acuerdo y sentencia n 136 de fecha 13 de diciembre del 2004 dictada por el tribunal de apelacion en lo criminal 1 sala que confirmo la condena impuesta al recurrente, ello no es 6ébice para que, en el caso de que el plazo haya expirado se disponga 1a prescripcioén de la accidén penal, puesto que para que seay ejecutable y tenga ese caracter de norma juridica particular apuntando anteriormente, debe revestir 1 8 calidad de cosa juzgada mor nnn nnn rrr rrr ciertamente, la sentencia definitiva pone fin al proceso y es el objeto ultimo del ejercicio de la accién penal que unl érgano jurisdiccional declare con razén la reclamacién hecha o la defensa articulada y en consecuencia obligue, en otras palabras debe estar fi der poe ejecutable, naldo levera secretario eee si la sentencia no esta firme, no puede aseverarse que la cuestién haya sido resuelta definitivamente, lo que implica ademas que el plazo sigue corriendo, puesto que si bien ha sido ejercida la accién la misma atin no ha tenido la definicion esperada, ejecutable y con calidad de certera, norma juridica particular aplicable exclusivamente a las partes ls ese es el criterio constante de esta sala penal, expuesto en los fallos citados precedentemente y muy especialmente en el acuerdo y sentencia n 1474 de fecha 11 de diciembre del 2006 en recurso estraordinario de casacion interpuesto por el abog carlos britez cardenas en los autos enrique garcia y jose leopoldo mendoza s h.p c la vida homicidio culposo que sefiala por voto unanime .la resolucién definitiva a la que hace referencia la ley es aquella que tiene la virtualidad de la cosa juzgada material, de lo contrario si solo bastara con una sentencia definitiva no notificada, en otras palabras que no esta firme, la misma no se puede ejecutar, no hace cosa juzgada y en consecuencia no pone fina al procedimiento con lo cual, ademés se podria extender el proceso en el tiempo violando el principio de tiempo razonable en otras palabras, debe quedar establecido que cuando la ley refiere a sentencia definitiva en el art 136 trata de aquella que esta firme y ejecutoriada, contra la que no procede recurso, salvo claro el caso del recurso de revisién, de finalidad especifica y limitada , igualmente la doctrina sefiala al respecto .ahora bien, independientemente de ello y de la oportunidad procesal en que se verifique la prescripcién, dijimos que por ser la prescripcioén pénal instituto de derecho material una cuestidén de orden publico que por ende opera de pleno derecho, debe ser declarada incluso de oficio en cualquier estado y grado de la causa, atin durante el trdmite recursivo si dan las situaciones que la ley prevé la prescripcién en el proceso penal por maximiliano hairabedian y federico zurueta editorial mediterranea, p 60, cérdoba repiblica argentina 11 1 expediente recurso extraordinario de casacion interpuesto por el sr hans friedich schuchardt en la causa ivan es lp, yegros y otros s defraudacion, sey zhe, cane suprema desadiicia falsificacion de instrumentos publicos y vy pe ry otros rca roe a ar oe 3 noe afr ar que no se puede declarar la prescripcién de la oe ex 2 eaecions én razén a que ha sido dictada una sentencia que no esta ae firmé que no tiene calidad de cosa juzgada y por ende no fis tt énstituye norma juridica particular vinculante para las partes, implica que todos ellos sometidos a proceso son culpables, y que ee el proceso se dirige tnica y exclusivamente a la atribucidén de responsabilidades concretas, que ya en abstracto se encuentran previstas, pudiendo el érgano jurisdiccional tomarse todo el tiempo que requiera para condenar con tales premisas, se deberia eliminar el tramite del proceso penal y directamente resolver sentencias condenatorias para todos los casos, lo cual resulta un, absurdo juridico la comisién interamericana de derechos humanos, ha expresado que el estado proceda al enjuiciamiento penal de ip todos los delitos, no justifica que se dedique un periodo de tiempo ilimitado a la resolucidén de un asunto de indole criminal de otro modo, se asumiria de manera implicita que el estado siempre enjuicia a culpables y que, por lo tanto, es irrelevante, el tiempo que se utilice para probar la culpabilidad eduardo i jauchen - derechos del imputado, p 322, ed rubinzal culzoni, santa fé argentina, 2005 en el mismo sentido se ha dicho .la sola presencia de una causal extintiva de accién debe ser estimada independientemente cualquiera sea la oportunidad de su produccién y de su conocimiento por el tribunal, toda vez que en términos procesales significa un impedimento para continuar ejerciendo los poderes de accién y jurisdiccién en procura de wun pronunciamiento sobre el fondo es decir, que no queda librada a la voluntad del juzgador la posibilidad de optar por realizar un andlisis objetivo o subjetivo de causales, sino que la ley imponel un camino a y mo corresponde que el tribunal se pronuncie sobre ntenido de ecurso de casacion incoado y a t ulfoslanco ministro ph abog arnaldo levera secretario 12 fondo de la cuestién, deben asegurarse de que el hecho no esté cubierto por la prescripcién maximiliano hairabedian y federico zurueta, ob cit p 53 en otras palabras previo a cualquier discusién sobre lo sustancial se deben verificar los plazos procesales y en caso necesario, disponer la prescripcién de la accién, independientemente a las presiones de las partes y al momento procesal, sin necesidad de un debate sobre los hechos, sus probanzas y la calificacion juridica que ameriten, puesto que el instituto tiene caracter eminentemente cuantitativo constatacién de los plazos procesales y no cualitativo, dentro de este contexto, debe en primer término determinarse cual ha sido la calificacién conferida a los hechos investigados en la presente causa en este sentido, atin cuando la misma tuvo inicio bajo la vigencia del cédigo penal de 1910, el juez de primera instancia, al momento de calificar las conductas de los procesados, entendiéd, que por ser de contenido y alcances mas benignos, en directa aplicacién de lo dispuesto por el art 14 de 14 c.n., correspondia la aplicacién de la nueva ley penal, calificando la conducta del peticionante en lo dispuesto por el art 192 inc 2 del nuevo c.p en concordancia con el art 29 del mismo cuerpo legal en igual sentido, el tribunal de apelacién penal dispuso que la calificacién debia ser la dispuesta por el art 192 inc 2 del c.p en concordancia con lo dispuesto por los articulos 246 y 29 del mismo cuerpo legal en efecto, por s.d n 22 de fecha 25 de octubre de 1999 por el juzgado de primera instancia en lo criminal del 9 turno 1.2.3 calificar el hecho antijuridico atribuido a la conducta de hans friedrich schuchardt mayer dentro de las prescripciones de los articulos 29 y 192 inciso 2 del nuevo cédigo penal 4.5.6 condenar a 6.4 hans friedrich schuchardt mayer a la pena privativa de libertad de ocho 8 anos por su parte, el acuerdo y sentencia n 136 de fecha 13 de diciembre del 2004 dictada por el tribunal de apelacién en lo criminal, 1 sala determind desestimar el recurso de nulidad modificar la sentencia recurrida, s.d n 22 de fecha 25 de octubre de 1999, dictada por 2 el juez en lo criminal del noveno turno, y en consecuencia 13 expediente recurso extraordinario ve casacion interpuesto por el sr hans friedich schuchardt en la causa ivan yegros y otros s defraudacion, 1 falsificacion de instrumentos publicos otros nnn nnn nnn nnn nnn nn nnn t nn sr nnn friedrich schuchardt dentro de las disposiciones de los articulos wie 29 incisos 1 y 2 y el articulo 70 todos del cédigo penal dejar incélume los demas puntos de la sentencia recurrida - en prosecucién del andlisis de la procedencia o no de la declaracién de prescripcién de la accién penal en la presente causa, es menester traer a colacién lo dispuesto por las normas penales que determinan las conductas tipicas por las que fue condenado hans friedrich schuchardt lo dispuesto por el art 1924 inc 1 del c.p en concordancia con el art 246 del mismo cuerpo el art 192 del c.p determina .lesion de confianza 1 el que en base a una ley, a una resolucién administrativa o a un contrato, haya asumido la responsabilidad de proteger un interés, patrimonial relevante para un tercero y causara o no evitara, dentro del dmbito de proteccidén que le fue confiado, un perjuicio patrimonial, serd castigado, con pena privativa de libertad de hasta cinco afios o con multa 2 en los casos especialmente graves la pena privativa de libertad podrd ser aumentada hasta diez anos mr r e por su parte, el art 246 del c.p dispone produccion de documentos no autenticos 1 el que produjera o usara un documento no autentico con intencidén de inducir en las relaciones juridicas al error sobre su autenticidad, serd castigado con penal privativa de libertad de hasta cinco afios o multa 2 se entenderd como 1 documento, la declaracién de una idea formulada por una persona de forma tal que, materializada, i 2 no autentico, un abog arnaldo levera secretario 102 inc 3 14 casos especialmente graves, la pena privativa de libertad podrd ser aumentada hasta diez .afios .- igualmente, deben considerarse las normas atinentes a la prescripcién de la accién penal, presentes en el cédigo penal en primer término, lo dispuesto por el art 102 del c.p plazos 1 los hechos punibles prescriben en 1 quince afios, cuando el limite méximo del marco penal previsto se de quince afios o mas de pena privativa de libertad 2 tres afios cuando el limite maximo del marco penal previsto sea pena privativa de libertad de hasta tres afios o pena de multa 3 en un tiempo igual al maximo de la pena privativa de libertad en los demas casos 2 el plazo correrd desde el momento en que termine la conducta punible en caso de ocurrir posteriormente un resultado que pertenezca al tipo legal, el plazo correrd desde ese momento 3 son imprescriptibles los hechos punibles, previstos en el art 5 de la constitucién por ultimo, el art 104 del c.p sefiala interrupcién 1 la prescripcién serd interrumpida por 1 un auto de instruccién sumarial 2 una citacidén para indagatoria del inculpado 3 un auto de elevacién de la causa al estado plenario 6 un escrito de fiscal peticionando la investigacion y 7 una diligencia judicial para actos investigativos en el extranjero 2 después de cada interrupci6n, la prescripcién correrd de nuevo sin embargo, operara la prescripcién, independientemente de las interrupciones, una vez trascurrido el doble del plazo de la prescripcion, n-n- consecuentemente, a los fines de establecerse si una accién ha prescripto o no, debe estarse a la calificacién realizada por el juez y concordar ello con los plazos previstos en el art 102 del c.p., en concordancia con lo dispuesto por el art 104 del mismo cuerpo legal el inicio del cdémputo del plazo de prescripcién, no es coincidente con el plazo del proceso, en otras palabras, el conteo no inicia con la primera resolucién de la causa o con su notificacién al procesado, sino mucho antes, al concluir la ejecucién del hecho punible, tal como lo prescribe el citado art para determinar ello, debemos fijarnos en lo gorte suprema det usticia beak cb 15 expediente recurso extraordinario de casacion interpuesto por el sr hans friedich schuchardt en la causa ivan yegros y otros s defraudacion, falsificacion de instrumentos publicos y otros nnn nner nnn rrr rrr nan pe wwrestablécido por las resoluciones definitivas dictadas en la yy oy quedado determinado que existi6 una adulteracién de la i de la antelco dirigida al gerente de operaciones , internacionales del banco central del paraguay, n 321 de fecha 22 de febrero de 1996, en la cual quedaba como beneficiario el banco central del paraguay igualmente por nota n 821 de fecha, 22 de febrero de 1996 supuesta adulteracién de la nota n 321 dirigida por la antelco al gerente de operaciones del banco central del paraguay, en la cual quedaba como beneficiario el banco de desarrollo del paraguay s.a., la que finalmente fue acreditada a la cta cte n 500086-1, por nota de crédito- dopi ddp n 15 96 en fecha 29 de febrero del 1996 de lo cual se desprende, que las conductas que se consideraron lesivas al orden juridico se produjeron entre el 22 de febrero de 1996 y el 29 ae febrero del mismo afio, por lo que se considerardé esta ultima fecha como punto de partida para el cémputo de la prescripcién debe considerarse ademas, el art 104, inc 2, ultima parte que determina que aun con las interrupciones, si transcurriere el, doble del plazo de la prescripcién, la misma prescribe en ely presente caso, tanto el tipo penal de lesién de confianza, como el de produccién de documentos no auténticos disponen una sancion punitiva de hasta cinco afios cuando se despliega la conducta, prevista en el tipo base art 14, inc 1, numeral 3 en relacién a la lesién de confianza, si bien es cierto se hal condenado una conducta agravada, ella no debe considerarse a los efectos del computo de la prescripcién, puesto que lo que contiene el ine del art 192 es una agravacién de lal nuevos elementos, sino que agrava la penay la conducta no introfi conducta fidera que alic amet cadsr ministre ab naldo levera secretario fe esent causa orn enn rrr rrr nnn gna y es que ese criterio que impera en la doctrina, que a los efectos del cdémputo de la prescripcién debe estarse a lo dispuesto por el tipo base y no al tipo legal a mayor abundamiento, la doctrina apunta al regirse todos los términos de prescripcién de la accién por la pena establecida en el tipo penal, éste adquiere superlativa y decisiva importancia entendemos que durante la instruccién hay que estarse al tipo penal seleccionado en primer lugar en el requerimiento de instruccién fiscal o en su defecto a la calificacién seleccionada para algin trdmite de libertad provisional si se ha dictado el auto de procedimiento el mismo determinara el encuadre penal del hecho, mientras que si el fiscal ya emitid la requisitoria de elevacién a juicio la misma delimitara la figura penal a aplicarse a los fines de la prescripcién de la accién la duda en cuanto a la determinacién del tipo penal aplicable debe ser interpretada siempre a favor del imputado de acuerdo a lo expuesto, no depende el plazo de prescripcién de la eleccién que haga el juez en el momento de dictar sentencia jorge c baclini, prescripcién penal- analisis doctrinal y jurisprudencial comentarios a la ley 25990, p 61, ed juris, afio 2005, rosario argentina 92 - nnn nnn nnn nnn no ejerce entonces ninguna influencia ni puede, por ende, adquirir trascendencia o significacién en la prescripcién de la accién todo lo atinente a los atenuantes o agravantes sproviero, juan h., prescripcién de la accién y de la pena, p 130, ed abaco, buenos aires-argentina, afio 2001 la mencién doctrinaria hace referencia a un sistema penal en donde los condicionamientos de agravacién y atenuaciédn de la pena se encuentran descriptos en la parte general de la ley penal, de tal manera que a la hora de calificar el hecho punible, el juez debe tomar como base el tipo base y luego adecuar la sancién de acuerdo a la gravedad o insignificancia, descriptos en la parte general tal sistema, ha sido desechado por la nueva ley penal, que prefiere, para cada tipo penal, individualizar los casos de agravacion o suavizacién de la pena merecida en razén a la conducta desplegada la exposicién de motivos del anteproyecto del cédigo penal lo explica de la siguiente manera .la expediente recurso extraordinario de casacion interpuesto por el sr hans friedich schuchardt en la causa ivan yegros y otros s defraudacion, falsificacion de instrumentos publicos y otros 933 n nnn nn nnn nnn nnn nnn nnn nnn 17 es ipo fei de la conducta punible parte del tipo base respecto geo o 3 de comisién mas o menos graves por circunstancias di fonwles no ha dado buen resultado la técnica legislativa de colocar agravantes y atenuantes generales en la parte general sin consideracién de aspectos axiolégicos por eso, el anteproyecto prefiere una individualizacién de los casos correspondientes en ala parte especial cédigo penal de la reptblica del paraguay coleccién de derecho penal, division de investigacién, legislacién y publicaciones, corte suprema de justicia, p lxxxii, asuncién-paraguay, afio 1999 no obstante ello, como bien lo dice la citada resefa, el tipo base describe la conducta y la sancién aplicable, todo lo demas son circunstancias que pueden agravar o atenuar la sancién penal, por lo cual, a los fines del cémputo del plazo para la prescripcién, por una interpretacién mas favorable para el encausado art 5 del c.p.p , corresponde determinar que dicho plazo se contabiliza en relacién con la sancién dispuesta para la conducta del tipo base, nnn nnn nn nnn nnn nnn nnn yendo a la cuestiéri puntual, la causa en la relacién hans friedrich schuchardt mayer inicié para en virtud al a.i n 332 de fecha 25 de marzo de 1997, por la cual se le instruyé sumario la calificacién final de su conducta fue incursa en lo dispuesto por el art 192 del c.p lesién de confianza 246 del mismo cuerpo legal, cuyo marco penal base es de 6 meses a cinco afios o multa habiendo sido condenado a la pena privativa de libertad de ocho afios, se considerara lo previsto por el art 102 inc 1, w numeral 3 en un tiempo igual al mdximo de la pena privativa de libertad en los demaés casos , 7- 337 n nnn rrr computando desye el 29 de febrero de 1996 y considerando lo dispuesto pof drticulos 192 y 246 del c.p en concordancia ministro, abog arnaldo levera secretario ae ae en como se ha dicho, se constata conforme al art 104 inc 2, in fine que ha trascurrido el doble del plazo de la prescripcién, ya que desde el 29 de febrero de 1996 hasta el 01 de marzo del 2006 han transcurrido diez afios desde que se desplego la conducta punible, con lo cual se concluye que en la presente causa ya ha operado la prescripcién de la accién penal, por imperio de lo dispuesto por el art 104 inc 2 del c.p.p en ese orden de cosas, es menester ademas aclarar el derrote de la causa en la presente instancia, de acuerdo a las éonstancias de autos y a los registros obrantes en los cuadernos respectivos en ese contexto la causa fue remitida por primera vez a este despacho en fecha 21 de marzo de 2006 en fecha 20 de julio del 2007, el procesado hans friedrich schuchardt mayer solicita la prescripcién de la accion penal, por lo que el 16 de agosto de 2007 los autos fueron remitidos a la secretaria judicial iii a los fines de la tramitacién del pedido en fecha 12 de diciembre del 2007 son remitidos nuevamente los autos a éste preopinante, volviendo a remitirse los autos a la secretaria judicial iii en fecha 13 de mayo de 2008 a los fines del reemplazo del prof dr wildo rienzi galeano y la integracién por otro ministro de la corte suprema de justicia por ultimo, en fecha 18 de julio de 2008 fueron remitidos nuevamente los autos a los fines de la emisién del voto como se puede notar, al momento de remitirse por primera vez la causa a los fines del estudio del caso 22 de marzo del 2006 la causa ya habia prescripto se produjo el 1 de marzo del 2006 , por lo que no existe otra alternativa que la de fallar en consecuencia.- corresponde por tanto se decrete que en la presente causa se produjo la prescripcién de la accién penal en relacidén al ciudadano hans friedrich schuchardt mayer el 1 de marzo de 2006 en razon a haber transcurrido diez afios desde que se produjeron las conductas penales atribuidas al mismo, de conformidad a lo dispuesto por los articulos 192, 246, 101, 102, 104 del c.p es mi voto, 7-3 nn nr nnn nnn nnn rrr nnn nnn neers snr - 19 j expediente recurso extraordinario de casacion interpuesto por el sr hans friedich schuchardt en la causa ivan yegros y otros s defraudacion, falsificacion de instrumentos publicos y otros als o 3 si 88 sieturno, la ministra pucheta de correa dijo disiento con que antecede del ilustre ministro preopinante - a ag sa antes de estudiar la admisién del recurso de casaci6n rado, es menester analizar la prescripcién de la accién penal, por ser ésta de previo pronunciamiento por su caracter de el andlisis de esta cuestién es sencillo en el presente caso y no requiere de mucho examen los hechos fdcticos de este juicio tienen su inicio en el afio 1996, siendo la causa establecida para muchos imputados y describiéndose la conducta de cada uno de ellos, entrando asi el encausado hans schuchardt este juicio fue sancionado a tenor de las disposiciones de la ley 1160 97 y no puede hallarse resultados posteriores a la conducta del penal debe correr desde el afio 1996 i r t 1 ij i acusado, por tanto, el plazo de la prescripcién de la accién para el recurrente, fue dictada la sd n 22 de fecha 25 de octubre de 1999, en donde, a lo pertinente del andlisis de esta prescripcién, su conducta fue calificada dentro de lo que dispone el articulo 192 del cp, que establece el plazo de cinco afios como f pena privativa de libertad, debiendo ser utilizado este plazo a los efectos de la prescripcién, por ser el tipo base de dicha el articulo 102 inciso 1 del cp expresa los hechos punibles prescriben en 1 quince afios, cuando el limite maximo privativa de libertad 2 tres afios, cuando el limite maximo del marco penal prevj sea pena privativa de libertad de hasta tres del marco penal previsto sea de quince afios o mas de pena afios o pena de privativa de 1 ministro abag aldo levera secretaria 20 en este momento, se debe efectuar la subsuncién de la conducta calificada dentro de las propuestas hechas en el articulo 102 del mismo cuerpo legal al respecto, la misma debe ser incursada dentro de lo que indica el numeral 3 del inciso 1 del articulado citado esto se hara asi por no poderse contemplar sus agravantes o atenuantes, 9 5-5-5 asi dado este razonamiento, esta accidén deberia prescribir a los cinco afios del afio determinado, contando desde el afio 1996 por lo que deberia prescribir en el afio 2001 no es necesario analizar en este caso las interrupciones acaecidas sin embargo, como se manifest6 mas arriba, en este juicio para el hoy recurrente, se ha dictado una sentencia en el afo 1999, siendo la misma dictada en tiempo vigente, antes del afio 2001, y que impide que la prescripcién sea valorada a posterior de ella errr nn rn rrr rrr nnn nnn nn esto es asi porque cuando un individuo sufre un injusto, el estado le otorga para su reparacién una accién penal, y el objetivo de esta accién es llevar al causante del injusto ante un tribunal que juzgue su conducta, pudiendo dicho tribunal absolver o condenar, lo cual a los efectos prescriptivos no tiene valor alguno pero producido ese juicio, la accién no tiene mas sentido aalguno, desaparece, la accién penal ya cumpli6é su objetivo, ya cumpliéd su sentido de existir, cual era el llevar al agraviante ante el tribunal, y cumplido esto, la misma como se reitera, desaparece, no existe mas, por ello, no se puede prescribir algo que ya no existe mas esta es la explicacién del por qué no figura la sentencia como causal de interrupcién, porque a partir de ella no hay mas nada que se pueda interrumpir siguiendo con el razonamiento delineado, es reconocido ya el criterio asentado en esta corte suprema de justicia consistente én que no es posible debatir la prescripcién de la accién si es que se ha dictado la sentencia dentro del proceso especifico, es decir, si dentro del plazo de vigencia de la accién, ha recaido una sentencia, entonces no se puede hablar de prescripcidén de la accién penal, y por ende, si la sentencia ha recaido con posterioridad al lapso de tiempo en el cual la accion se hallaba abo naldo levera expediente recurso extraordinario de casacion interpuesto por el sr hans friedich schuchardt en la causa ivan yegros y otros s defraudacion, falsificacion de instrumentos publicos y otros e enn nnn nnn nr nnn 21 te suprema de justicia en varios fallos, citando como ejemplos las causas caratuladas valeria ortiz de esteche s lesién de enfianza julio césar valdéz s lesién maria teresa lopez moreira y otra s calumnia oscar luis bernal s lesién culposa y mario salinas s peculado, rodrigo luis ugarriza s lesion culposa y tomas cantero aguilera s lesién culposa, entre otros esta jurisprudencia deriva de la excelente doctrina arrimada al respecto por el jurista aleman jescheck este tratadista del derecho penal indica, a mayor redundancia, que cuando ha sido dictada sentencia en primera instancia ya no puede tener lugar la prescripcién de la persecucion los retrasos en el procedimiento de recursos quedan, pues, sin consecuencias en orden a la prescripcién hans jescheck y thomas weigend, tratado de derecho penal parte general, pagina 985 , 9-3-3 nnn nnn nnn nnn nnn nnn nnn nnn siendo por ello que no importa a la prescripcién de la accién penal el hecho que la sentencia este firme o no, por todos los el antecedente que obra en el voto preopinante, a y s n 1474 de fecha 11 de diciembre de 2006, no es aplicable a esta causa, porque el mismo se refiere a la extincidén de la accién, i motivos arriba indicados, nnn nnn nnn is i figura regulada en el articulo 136 y modificaciones del cpp, que nada tiene en similitud con la prescripcién de la accion penal, regulada en el articulo 102 en adelante del cp los otros i pero se refieren a materias conexas ministro secretario 22 por todo esto, no procede la prescripcién intentada y no es posible debatirla mas 3-3 errr nnn en cuanto al recurso de casacién, sobre su fondo, se ve que el mismo no puede ser admitido a estudio, por no cumplir los requisitos del articulo 477 del cpp, ademas de otros el escrito, obrante a fojas 111 en adelante, alega el numeral 3 del articulo 478 para fundar su casacién, pero en primer lugar no indica absolutamente ningin agravio dirigido contra el fallo del tribunal de apelacion, con lo que como se expres6, el articulo 477 del cpp queda incumplido en las primera fojas, el escrito de casacién hace un relato de todas las acciones y hechos relevantes en la causa, para que a partir de la foja 118 de autos pase a analizar pormenorizadamente las pruebas rendidas en juicio, para terminar, a fojas 125 hasta el final, en cuestionar el fallo de primera instancia, el cual no puede ser objeto de casacién, siendo por ende inadmisible el recurso intentado, 9 nnn nnn nn nnn nen nn nnn nnn nn asi las cuestiones resueltas, corresponde rechazar el pedido de prescripcién intentado y declarar inadmisible la casacién presentada, quedando confirmado asi el acuerdo y sentencia n 136 de fecha 13 de diciembre de 2004 es mi voto a su turno, el ministro torres kirmser manifiesta que se adhiere al voto de la ministra pucheta de correa, a con lo que se dio por terminado ex acto firmando s.s.e e, todo por ante mi de ie expediente recurso extraordinario de casacion interpuesto por el sr hans friedich schuchardt en la causa ivan yegros y otros s defraudacion, falsificacion de instrumentos publicos y otros 23 asuncion, ad de agosto de 8088 - os los méritos del acuerdo que antecede, la- corte suprema de justicia sala penal\n",
            "True\n"
          ]
        }
      ],
      "source": [
        "print(df['text'][0])\n",
        "\n",
        "# print True or False if word \"declarar\" is in the text\n",
        "print('declarar' in df['text'][0])\n",
        "\n",
        "# print the word that comes after declarar\n",
        "print(df['text'][0].split('declarar')[1].split()[0])"
      ]
    },
    {
      "cell_type": "markdown",
      "metadata": {
        "id": "2CXNHCTPGiBr"
      },
      "source": [
        "## Split data"
      ]
    },
    {
      "cell_type": "code",
      "execution_count": 23,
      "metadata": {},
      "outputs": [],
      "source": [
        "from sklearn.model_selection import train_test_split\n",
        "\n",
        "train_texts, temp_texts, y_train, y_temp = train_test_split(\n",
        "    df['text'], df['label'],\n",
        "    test_size=0.3, random_state=42\n",
        ")\n",
        "\n",
        "val_texts, test_texts, y_val, y_test = train_test_split(\n",
        "    temp_texts, y_temp,\n",
        "    test_size=0.5, random_state=42\n",
        ")"
      ]
    },
    {
      "cell_type": "code",
      "execution_count": 24,
      "metadata": {},
      "outputs": [
        {
          "name": "stdout",
          "output_type": "stream",
          "text": [
            "Train samples: 700\n",
            "Validation samples: 150\n",
            "Test samples: 150\n",
            "\n",
            "label\n",
            "0    573\n",
            "1    127\n",
            "Name: count, dtype: int64\n"
          ]
        }
      ],
      "source": [
        "print('Train samples:', train_texts.shape[0])\n",
        "print('Validation samples:', val_texts.shape[0])\n",
        "print('Test samples:', test_texts.shape[0])\n",
        "print()\n",
        "\n",
        "# print labels distribution in train\n",
        "print(y_train.value_counts())"
      ]
    },
    {
      "cell_type": "markdown",
      "metadata": {},
      "source": [
        "## Run Model"
      ]
    },
    {
      "cell_type": "code",
      "execution_count": 13,
      "metadata": {},
      "outputs": [
        {
          "name": "stdout",
          "output_type": "stream",
          "text": [
            "Converting train, val and test texts to csv...\n"
          ]
        }
      ],
      "source": [
        "print(\"Converting train, val and test texts to csv...\")\n",
        "train_texts.to_csv('corpus/train_texts.csv', index=False, header=False)\n",
        "val_texts.to_csv('corpus/val_texts.csv', index=False, header=False)\n",
        "test_texts.to_csv('corpus/test_texts.csv', index=False, header=False)"
      ]
    },
    {
      "cell_type": "code",
      "execution_count": 14,
      "metadata": {},
      "outputs": [
        {
          "name": "stderr",
          "output_type": "stream",
          "text": [
            "2024-09-20 12:46:02.122303: I tensorflow/core/util/port.cc:153] oneDNN custom operations are on. You may see slightly different numerical results due to floating-point round-off errors from different computation orders. To turn them off, set the environment variable `TF_ENABLE_ONEDNN_OPTS=0`.\n",
            "2024-09-20 12:46:02.136328: E external/local_xla/xla/stream_executor/cuda/cuda_fft.cc:485] Unable to register cuFFT factory: Attempting to register factory for plugin cuFFT when one has already been registered\n",
            "2024-09-20 12:46:02.152797: E external/local_xla/xla/stream_executor/cuda/cuda_dnn.cc:8454] Unable to register cuDNN factory: Attempting to register factory for plugin cuDNN when one has already been registered\n",
            "2024-09-20 12:46:02.157802: E external/local_xla/xla/stream_executor/cuda/cuda_blas.cc:1452] Unable to register cuBLAS factory: Attempting to register factory for plugin cuBLAS when one has already been registered\n",
            "2024-09-20 12:46:02.171000: I tensorflow/core/platform/cpu_feature_guard.cc:210] This TensorFlow binary is optimized to use available CPU instructions in performance-critical operations.\n",
            "To enable the following instructions: AVX2 AVX512F AVX512_VNNI FMA, in other operations, rebuild TensorFlow with the appropriate compiler flags.\n",
            "2024-09-20 12:46:03.029209: W tensorflow/compiler/tf2tensorrt/utils/py_utils.cc:38] TF-TRT Warning: Could not find TensorRT\n"
          ]
        },
        {
          "name": "stdout",
          "output_type": "stream",
          "text": [
            "---------------------------------------------\n",
            "---------------------------------------------\n",
            "Number of GPUs: 2\n",
            "---------------------------------------------\n",
            "---------------------------------------------\n",
            "------------------------------------\n",
            "Model: Narrativa/legal-longformer-base-4096-spanish\n",
            "------------------------------------\n"
          ]
        },
        {
          "name": "stderr",
          "output_type": "stream",
          "text": [
            "/home/leon/.local/lib/python3.10/site-packages/transformers/tokenization_utils_base.py:1601: FutureWarning: `clean_up_tokenization_spaces` was not set. It will be set to `True` by default. This behavior will be depracted in transformers v4.45, and will be then set to `False` by default. For more details check this issue: https://github.com/huggingface/transformers/issues/31884\n",
            "  warnings.warn(\n"
          ]
        },
        {
          "name": "stdout",
          "output_type": "stream",
          "text": [
            "Sample train input_ids: [101, 4654, 5669, 25099, 28667, 9236, 2080, 2139, 14124, 10446, 6970, 14289, 4355, 2080, 18499, 3449, 5034, 1046, 1039, 1039, 1061, 18499, 4315, 15937, 2080, 17678, 3695, 1061, 8670, 5558, 6986, 3217, 27085, 2080, 3972, 11113, 8649, 1050, 1046, 1054, 1012, 1010, 4372, 2474, 6187, 10383, 1037, 1041, 1055, 2572, 8189, 4143, 1050, 5890, 1012, 5890, 1012, 6021, 1012, 5890, 1012, 2268, 1012, 23475, 2019, 2080, 2249, 1010, 1050, 5354, 2620, 1010, 1042, 29401, 6421, 1058, 23223, 9353, 13094, 3527, 1061, 2741, 27742, 16371, 5017, 2080, 21864, 8034, 13663, 2015, 7367, 5054, 2696, 1061, 16371, 18697, 4372, 2474, 20759, 2139, 2004, 4609, 10446, 1010, 3007, 2139, 2474, 3072, 2050, 3972, 13884, 1010, 1037, 3050, 3280, 2480, 1061, 16371, 18697, 22939, 2015, 1010, 3972, 2033, 2015, 2139, 12022, 3695, 3972, 2019, 2080, 9998, 23689, 9986, 2063, 9765, 28574, 2128, 19496, 12269, 4372, 2474, 16183, 2050, 2139, 9353, 13094, 12269, 3050, 12411, 16610, 7163, 3367, 7352, 2139, 2474, 24970, 4765, 17417, 2863, 2522, 19731, 10514, 28139, 2863, 2139, 2074, 24108, 1010, 15935, 3786, 21885, 16405, 20318, 2050, 2139, 2522, 14343, 2050, 1010, 8254, 8566, 10270, 2080, 20036, 1061, 6446, 3814, 3841, 4221, 2480, 15544, 6906, 1010, 14405, 2063, 2771, 2474, 3595, 10980, 8285, 21885, 12956, 1010, 7367, 19817, 13006, 2080, 3449, 4654, 5669, 25099, 14418, 28970, 3527, 28667, 9236, 2080, 2139, 14124, 10446, 6970, 14289, 4355, 2080, 18499, 3449, 5034, 1046, 1039, 1039, 1061, 18499, 4315, 15937, 2080, 17678, 3695, 1061, 8670, 5558, 6986, 3217, 27085, 2080, 3972, 11113, 8649, 1050, 1046, 1054, 1012, 1010, 4372, 2474, 6187, 10383, 1037, 1041, 1055, 2572, 8189, 4143, 1010, 24528, 3449, 9353, 13094, 3527, 1061, 2741, 27742, 1050, 5179, 2139, 10768, 7507, 2654, 2139, 13323, 12083, 2890, 2139, 2249, 1010, 4487, 25572, 3527, 18499, 3449, 12152, 2139, 23957, 2721, 10446, 4372, 8840, 18476, 1010, 14837, 16183, 2050, 2139, 2474, 3007, 3653, 25500, 9765, 21041, 2080, 2139, 3050, 14405, 26005, 16454, 2229, 3972, 25222, 2080, 1010, 2474, 24970, 4765, 17417, 2863, 2522, 19731, 10514, 28139, 2863, 2139, 2074, 24108, 1010, 24501, 4747, 25500, 3269, 14644, 5869, 9033, 25698, 26933, 1039, 1057, 1041, 1055, 1056, 1045, 1051, 1050, 1041, 1055, 9686, 4748, 15630, 7028, 3449, 28667, 9236, 2080, 2139, 14124, 10446, 6970, 14289, 4355, 2080, 1012, 1011, 4372, 10514, 25222, 2080, 1010, 2765, 2050, 4013, 22119, 10111, 1012, 1011, 1037, 3050, 1041, 25969, 2891, 2139, 28283, 22311, 2099, 4895, 2030, 4181, 11498, 2474, 16258, 19570, 3258, 2139, 5869, 5448, 2229, 1010, 7367, 2613, 10993, 2080, 4895, 4066, 8780, 10861, 12098, 3217, 5558, 3449, 9033, 25698, 15781, 2765, 9365, 20036, 1010, 16405, 20318, 2050, 2139, 2522, 14343, 2050, 1061, 3841, 4221, 2480, 15544, 6906, 1012, 1011, 1037, 2474, 14837, 23391, 3508, 3269, 13775, 2050, 1010, 3449, 7163, 3367, 3217, 20036, 4487, 5558, 10861, 18499, 9353, 13094, 3527, 1061, 2741, 27742, 1050, 5179, 2139, 10768, 7507, 2654, 2139, 13323, 12083, 2890, 2139, 2249, 1010, 4487, 25572, 3527, 18499, 3449, 12152, 2139, 23957, 2721, 10446, 4372, 8840, 18476, 1010, 14837, 16183, 2050, 2139, 2474, 3007, 1010, 18499, 2474, 12731, 2389, 7367, 24501, 4747, 25500, 4372, 7913, 27178, 8180, 2522, 20939, 1012, 102]\n",
            "Type of classes: <class 'numpy.ndarray'>\n",
            "Classes: [0 1]\n"
          ]
        },
        {
          "name": "stderr",
          "output_type": "stream",
          "text": [
            "Some weights of RobertaForSequenceClassification were not initialized from the model checkpoint at Narrativa/legal-longformer-base-4096-spanish and are newly initialized: ['classifier.dense.bias', 'classifier.dense.weight', 'classifier.out_proj.bias', 'classifier.out_proj.weight']\n",
            "You should probably TRAIN this model on a down-stream task to be able to use it for predictions and inference.\n",
            "/home/leon/.local/lib/python3.10/site-packages/transformers/training_args.py:1525: FutureWarning: `evaluation_strategy` is deprecated and will be removed in version 4.46 of 🤗 Transformers. Use `eval_strategy` instead\n",
            "  warnings.warn(\n"
          ]
        },
        {
          "name": "stdout",
          "output_type": "stream",
          "text": [
            "using automodel\n",
            "Training arguments\n",
            "Batch size: 16\n",
            "Weight decay: 0.01\n",
            "Learning rate: 2e-05\n",
            "Warmup steps: 1000\n",
            "Metric for best model: f1\n"
          ]
        },
        {
          "name": "stderr",
          "output_type": "stream",
          "text": [
            "/usr/local/lib/python3.10/dist-packages/torch/nn/parallel/_functions.py:68: UserWarning: Was asked to gather along dimension 0, but all input tensors were scalars; will instead unsqueeze and return a vector.\n",
            "  warnings.warn('Was asked to gather along dimension 0, but all '\n"
          ]
        },
        {
          "data": {
            "text/html": [
              "\n",
              "    <div>\n",
              "      \n",
              "      <progress value='770' max='3300' style='width:300px; height:20px; vertical-align: middle;'></progress>\n",
              "      [ 770/3300 07:47 < 25:41, 1.64 it/s, Epoch 7/30]\n",
              "    </div>\n",
              "    <table border=\"1\" class=\"dataframe\">\n",
              "  <thead>\n",
              " <tr style=\"text-align: left;\">\n",
              "      <th>Epoch</th>\n",
              "      <th>Training Loss</th>\n",
              "      <th>Validation Loss</th>\n",
              "      <th>Accuracy</th>\n",
              "      <th>F1</th>\n",
              "      <th>Precision</th>\n",
              "      <th>Recall</th>\n",
              "    </tr>\n",
              "  </thead>\n",
              "  <tbody>\n",
              "    <tr>\n",
              "      <td>1</td>\n",
              "      <td>0.456800</td>\n",
              "      <td>0.499759</td>\n",
              "      <td>0.802667</td>\n",
              "      <td>0.445266</td>\n",
              "      <td>0.401333</td>\n",
              "      <td>0.500000</td>\n",
              "    </tr>\n",
              "    <tr>\n",
              "      <td>2</td>\n",
              "      <td>0.484900</td>\n",
              "      <td>0.505483</td>\n",
              "      <td>0.802667</td>\n",
              "      <td>0.445266</td>\n",
              "      <td>0.401333</td>\n",
              "      <td>0.500000</td>\n",
              "    </tr>\n",
              "    <tr>\n",
              "      <td>3</td>\n",
              "      <td>0.454900</td>\n",
              "      <td>0.508455</td>\n",
              "      <td>0.802667</td>\n",
              "      <td>0.445266</td>\n",
              "      <td>0.401333</td>\n",
              "      <td>0.500000</td>\n",
              "    </tr>\n",
              "    <tr>\n",
              "      <td>4</td>\n",
              "      <td>0.467700</td>\n",
              "      <td>0.493187</td>\n",
              "      <td>0.802667</td>\n",
              "      <td>0.445266</td>\n",
              "      <td>0.401333</td>\n",
              "      <td>0.500000</td>\n",
              "    </tr>\n",
              "    <tr>\n",
              "      <td>5</td>\n",
              "      <td>0.544000</td>\n",
              "      <td>0.481291</td>\n",
              "      <td>0.802667</td>\n",
              "      <td>0.445266</td>\n",
              "      <td>0.401333</td>\n",
              "      <td>0.500000</td>\n",
              "    </tr>\n",
              "    <tr>\n",
              "      <td>6</td>\n",
              "      <td>0.456100</td>\n",
              "      <td>0.472552</td>\n",
              "      <td>0.802667</td>\n",
              "      <td>0.445266</td>\n",
              "      <td>0.401333</td>\n",
              "      <td>0.500000</td>\n",
              "    </tr>\n",
              "    <tr>\n",
              "      <td>7</td>\n",
              "      <td>0.469500</td>\n",
              "      <td>0.498149</td>\n",
              "      <td>0.802667</td>\n",
              "      <td>0.445266</td>\n",
              "      <td>0.401333</td>\n",
              "      <td>0.500000</td>\n",
              "    </tr>\n",
              "  </tbody>\n",
              "</table><p>"
            ],
            "text/plain": [
              "<IPython.core.display.HTML object>"
            ]
          },
          "metadata": {},
          "output_type": "display_data"
        },
        {
          "name": "stderr",
          "output_type": "stream",
          "text": [
            "/home/leon/.local/lib/python3.10/site-packages/sklearn/metrics/_classification.py:1509: UndefinedMetricWarning: Precision is ill-defined and being set to 0.0 in labels with no predicted samples. Use `zero_division` parameter to control this behavior.\n",
            "  _warn_prf(average, modifier, f\"{metric.capitalize()} is\", len(result))\n",
            "/usr/local/lib/python3.10/dist-packages/torch/nn/parallel/_functions.py:68: UserWarning: Was asked to gather along dimension 0, but all input tensors were scalars; will instead unsqueeze and return a vector.\n",
            "  warnings.warn('Was asked to gather along dimension 0, but all '\n",
            "/home/leon/.local/lib/python3.10/site-packages/sklearn/metrics/_classification.py:1509: UndefinedMetricWarning: Precision is ill-defined and being set to 0.0 in labels with no predicted samples. Use `zero_division` parameter to control this behavior.\n",
            "  _warn_prf(average, modifier, f\"{metric.capitalize()} is\", len(result))\n",
            "/usr/local/lib/python3.10/dist-packages/torch/nn/parallel/_functions.py:68: UserWarning: Was asked to gather along dimension 0, but all input tensors were scalars; will instead unsqueeze and return a vector.\n",
            "  warnings.warn('Was asked to gather along dimension 0, but all '\n",
            "/home/leon/.local/lib/python3.10/site-packages/sklearn/metrics/_classification.py:1509: UndefinedMetricWarning: Precision is ill-defined and being set to 0.0 in labels with no predicted samples. Use `zero_division` parameter to control this behavior.\n",
            "  _warn_prf(average, modifier, f\"{metric.capitalize()} is\", len(result))\n",
            "/usr/local/lib/python3.10/dist-packages/torch/nn/parallel/_functions.py:68: UserWarning: Was asked to gather along dimension 0, but all input tensors were scalars; will instead unsqueeze and return a vector.\n",
            "  warnings.warn('Was asked to gather along dimension 0, but all '\n",
            "/home/leon/.local/lib/python3.10/site-packages/sklearn/metrics/_classification.py:1509: UndefinedMetricWarning: Precision is ill-defined and being set to 0.0 in labels with no predicted samples. Use `zero_division` parameter to control this behavior.\n",
            "  _warn_prf(average, modifier, f\"{metric.capitalize()} is\", len(result))\n",
            "/usr/local/lib/python3.10/dist-packages/torch/nn/parallel/_functions.py:68: UserWarning: Was asked to gather along dimension 0, but all input tensors were scalars; will instead unsqueeze and return a vector.\n",
            "  warnings.warn('Was asked to gather along dimension 0, but all '\n",
            "/home/leon/.local/lib/python3.10/site-packages/sklearn/metrics/_classification.py:1509: UndefinedMetricWarning: Precision is ill-defined and being set to 0.0 in labels with no predicted samples. Use `zero_division` parameter to control this behavior.\n",
            "  _warn_prf(average, modifier, f\"{metric.capitalize()} is\", len(result))\n",
            "/usr/local/lib/python3.10/dist-packages/torch/nn/parallel/_functions.py:68: UserWarning: Was asked to gather along dimension 0, but all input tensors were scalars; will instead unsqueeze and return a vector.\n",
            "  warnings.warn('Was asked to gather along dimension 0, but all '\n",
            "/home/leon/.local/lib/python3.10/site-packages/sklearn/metrics/_classification.py:1509: UndefinedMetricWarning: Precision is ill-defined and being set to 0.0 in labels with no predicted samples. Use `zero_division` parameter to control this behavior.\n",
            "  _warn_prf(average, modifier, f\"{metric.capitalize()} is\", len(result))\n",
            "/usr/local/lib/python3.10/dist-packages/torch/nn/parallel/_functions.py:68: UserWarning: Was asked to gather along dimension 0, but all input tensors were scalars; will instead unsqueeze and return a vector.\n",
            "  warnings.warn('Was asked to gather along dimension 0, but all '\n",
            "/home/leon/.local/lib/python3.10/site-packages/sklearn/metrics/_classification.py:1509: UndefinedMetricWarning: Precision is ill-defined and being set to 0.0 in labels with no predicted samples. Use `zero_division` parameter to control this behavior.\n",
            "  _warn_prf(average, modifier, f\"{metric.capitalize()} is\", len(result))\n"
          ]
        },
        {
          "data": {
            "text/html": [],
            "text/plain": [
              "<IPython.core.display.HTML object>"
            ]
          },
          "metadata": {},
          "output_type": "display_data"
        },
        {
          "name": "stdout",
          "output_type": "stream",
          "text": [
            "Predicted Labels [0 0 0 0 0 0 0 0 0 0 0 0 0 0 0 0 0 0 0 0 0 0 0 0 0 0 0 0 0 0 0 0 0 0 0 0 0\n",
            " 0 0 0 0 0 0 0 0 0 0 0 0 0 0 0 0 0 0 0 0 0 0 0 0 0 0 0 0 0 0 0 0 0 0 0 0 0\n",
            " 0 0 0 0 0 0 0 0 0 0 0 0 0 0 0 0 0 0 0 0 0 0 0 0 0 0 0 0 0 0 0 0 0 0 0 0 0\n",
            " 0 0 0 0 0 0 0 0 0 0 0 0 0 0 0 0 0 0 0 0 0 0 0 0 0 0 0 0 0 0 0 0 0 0 0 0 0\n",
            " 0 0 0 0 0 0 0 0 0 0 0 0 0 0 0 0 0 0 0 0 0 0 0 0 0 0 0 0 0 0 0 0 0 0 0 0 0\n",
            " 0 0 0 0 0 0 0 0 0 0 0 0 0 0 0 0 0 0 0 0 0 0 0 0 0 0 0 0 0 0 0 0 0 0 0 0 0\n",
            " 0 0 0 0 0 0 0 0 0 0 0 0 0 0 0 0 0 0 0 0 0 0 0 0 0 0 0 0 0 0 0 0 0 0 0 0 0\n",
            " 0 0 0 0 0 0 0 0 0 0 0 0 0 0 0 0 0 0 0 0 0 0 0 0 0 0 0 0 0 0 0 0 0 0 0 0 0\n",
            " 0 0 0 0 0 0 0 0 0 0 0 0 0 0 0 0 0 0 0 0 0 0 0 0 0 0 0 0 0 0 0 0 0 0 0 0 0\n",
            " 0 0 0 0 0 0 0 0 0 0 0 0 0 0 0 0 0 0 0 0 0 0 0 0 0 0 0 0 0 0 0 0 0 0 0 0 0\n",
            " 0 0 0 0 0 0 0 0 0 0 0 0 0 0 0 0 0 0 0 0 0 0 0 0 0 0 0 0 0 0 0 0 0 0 0 0 0\n",
            " 0 0 0 0 0 0 0 0 0 0 0 0 0 0 0 0 0 0 0 0 0 0 0 0 0 0 0 0 0 0 0 0 0 0 0 0 0\n",
            " 0 0 0 0 0 0 0 0 0 0 0 0 0 0 0 0 0 0 0 0 0 0 0 0 0 0 0 0 0 0 0 0 0 0 0 0 0\n",
            " 0 0 0 0 0 0 0 0 0 0 0 0 0 0 0 0 0 0 0 0 0 0 0 0 0 0 0 0 0 0 0 0 0 0 0 0 0\n",
            " 0 0 0 0 0 0 0 0 0 0 0 0 0 0 0 0 0 0 0 0 0 0 0 0 0 0 0 0 0 0 0 0 0 0 0 0 0\n",
            " 0 0 0 0 0 0 0 0 0 0 0 0 0 0 0 0 0 0 0 0 0 0 0 0 0 0 0 0 0 0 0 0 0 0 0 0 0\n",
            " 0 0 0 0 0 0 0 0 0 0 0 0 0 0 0 0 0 0 0 0 0 0 0 0 0 0 0 0 0 0 0 0 0 0 0 0 0\n",
            " 0 0 0 0 0 0 0 0 0 0 0 0 0 0 0 0 0 0 0 0 0 0 0 0 0 0 0 0 0 0 0 0 0 0 0 0 0\n",
            " 0 0 0 0 0 0 0 0 0 0 0 0 0 0 0 0 0 0 0 0 0 0 0 0 0 0 0 0 0 0 0 0 0 0 0 0 0\n",
            " 0 0 0 0 0 0 0 0 0 0 0 0 0 0 0 0 0 0 0 0 0 0 0 0 0 0 0 0 0 0 0 0 0 0 0 0 0\n",
            " 0 0 0 0 0 0 0 0 0 0]\n",
            "              precision    recall  f1-score   support\n",
            "\n",
            "     Class 0       0.80      1.00      0.89       602\n",
            "     Class 1       0.00      0.00      0.00       148\n",
            "\n",
            "    accuracy                           0.80       750\n",
            "   macro avg       0.40      0.50      0.45       750\n",
            "weighted avg       0.64      0.80      0.71       750\n",
            "\n"
          ]
        },
        {
          "name": "stderr",
          "output_type": "stream",
          "text": [
            "/home/leon/.local/lib/python3.10/site-packages/sklearn/metrics/_classification.py:1509: UndefinedMetricWarning: Precision is ill-defined and being set to 0.0 in labels with no predicted samples. Use `zero_division` parameter to control this behavior.\n",
            "  _warn_prf(average, modifier, f\"{metric.capitalize()} is\", len(result))\n",
            "/home/leon/.local/lib/python3.10/site-packages/sklearn/metrics/_classification.py:1509: UndefinedMetricWarning: Precision is ill-defined and being set to 0.0 in labels with no predicted samples. Use `zero_division` parameter to control this behavior.\n",
            "  _warn_prf(average, modifier, f\"{metric.capitalize()} is\", len(result))\n",
            "/home/leon/.local/lib/python3.10/site-packages/sklearn/metrics/_classification.py:1509: UndefinedMetricWarning: Precision is ill-defined and being set to 0.0 in labels with no predicted samples. Use `zero_division` parameter to control this behavior.\n",
            "  _warn_prf(average, modifier, f\"{metric.capitalize()} is\", len(result))\n"
          ]
        }
      ],
      "source": [
        "from models import tune_transformer\n",
        "import torch\n",
        "from transformers import BertTokenizer\n",
        "from torch.optim import AdamW\n",
        "from torch.utils.data import DataLoader, TensorDataset\n",
        "from sklearn.metrics import accuracy_score\n",
        "from transformers import AutoTokenizer, AutoModelForSequenceClassification, AutoConfig, AutoModel\n",
        "import numpy as np\n",
        "\n",
        "print(\"------------------------------------\")\n",
        "print(\"Model:\", model_checkpoint)\n",
        "print(\"------------------------------------\")\n",
        "\n",
        "test_pred_labels = tune_transformer.run(model_checkpoint, 2,\n",
        "                                        train_texts, val_texts, test_texts,\n",
        "                                        y_train, y_val, y_test,\n",
        "                                        hyperparameters=hyperparameters)\n",
        "\n",
        "# # replace original test labels with predicted labels\n",
        "# df_test['label'] = test_pred_labels\n",
        "\n",
        "# # save the dataframe with predicted labels to a csv file\n",
        "# print(\"Saving predictions to csv...\")\n",
        "# df_test.to_csv('corpus/prediction_task3.tsv', sep='\\t', index=False)"
      ]
    },
    {
      "cell_type": "markdown",
      "metadata": {},
      "source": [
        "## Mamba"
      ]
    },
    {
      "cell_type": "code",
      "execution_count": 26,
      "metadata": {},
      "outputs": [
        {
          "name": "stdout",
          "output_type": "stream",
          "text": [
            "Using device: cuda\n",
            "\n",
            "Epoch 1/10\n",
            "Batch 0/44, Loss: 0.5739\n",
            "Batch 10/44, Loss: 0.6282\n",
            "Batch 20/44, Loss: 0.4389\n",
            "Batch 30/44, Loss: 0.4573\n",
            "Batch 40/44, Loss: 0.4556\n",
            "Train Loss: 0.4886\n",
            "Val Accuracy: 81.33% | F1 Score: 0.4485 | Loss: 0.5164\n",
            "\n",
            "Epoch 2/10\n",
            "Batch 0/44, Loss: 0.3976\n",
            "Batch 10/44, Loss: 0.4092\n",
            "Batch 20/44, Loss: 0.2421\n",
            "Batch 30/44, Loss: 0.3954\n",
            "Batch 40/44, Loss: 0.6082\n",
            "Train Loss: 0.4609\n",
            "Val Accuracy: 81.33% | F1 Score: 0.4485 | Loss: 0.4896\n",
            "\n",
            "Epoch 3/10\n",
            "Batch 0/44, Loss: 0.1922\n",
            "Batch 10/44, Loss: 0.5348\n",
            "Batch 20/44, Loss: 0.4201\n",
            "Batch 30/44, Loss: 0.2930\n",
            "Batch 40/44, Loss: 0.3846\n",
            "Train Loss: 0.4511\n",
            "Val Accuracy: 81.33% | F1 Score: 0.4485 | Loss: 0.4758\n",
            "\n",
            "Epoch 4/10\n",
            "Batch 0/44, Loss: 0.4785\n",
            "Batch 10/44, Loss: 0.6792\n",
            "Batch 20/44, Loss: 0.1791\n",
            "Batch 30/44, Loss: 0.3837\n",
            "Batch 40/44, Loss: 0.6539\n",
            "Train Loss: 0.4451\n",
            "Val Accuracy: 81.33% | F1 Score: 0.4485 | Loss: 0.4834\n",
            "\n",
            "Epoch 5/10\n",
            "Batch 0/44, Loss: 0.2782\n",
            "Batch 10/44, Loss: 0.5488\n",
            "Batch 20/44, Loss: 0.4874\n",
            "Batch 30/44, Loss: 0.3738\n",
            "Batch 40/44, Loss: 0.5706\n",
            "Train Loss: 0.4507\n",
            "Val Accuracy: 81.33% | F1 Score: 0.4485 | Loss: 0.4852\n",
            "\n",
            "Epoch 6/10\n",
            "Batch 0/44, Loss: 0.3835\n",
            "Batch 10/44, Loss: 0.3648\n",
            "Batch 20/44, Loss: 0.4999\n",
            "Batch 30/44, Loss: 0.4900\n",
            "Batch 40/44, Loss: 0.5907\n",
            "Train Loss: 0.4359\n",
            "Val Accuracy: 81.33% | F1 Score: 0.4485 | Loss: 0.4993\n",
            "\n",
            "Epoch 7/10\n",
            "Batch 0/44, Loss: 0.4904\n",
            "Batch 10/44, Loss: 0.2575\n",
            "Batch 20/44, Loss: 0.3364\n",
            "Batch 30/44, Loss: 0.7685\n",
            "Batch 40/44, Loss: 0.4121\n",
            "Train Loss: 0.4325\n",
            "Val Accuracy: 81.33% | F1 Score: 0.4485 | Loss: 0.5015\n",
            "\n",
            "Epoch 8/10\n",
            "Batch 0/44, Loss: 0.4474\n",
            "Batch 10/44, Loss: 0.2207\n",
            "Batch 20/44, Loss: 0.5876\n",
            "Batch 30/44, Loss: 0.4315\n",
            "Batch 40/44, Loss: 0.7087\n",
            "Train Loss: 0.4289\n",
            "Val Accuracy: 81.33% | F1 Score: 0.4485 | Loss: 0.5071\n",
            "\n",
            "Epoch 9/10\n",
            "Batch 0/44, Loss: 0.5222\n",
            "Batch 10/44, Loss: 0.2103\n",
            "Batch 20/44, Loss: 0.2455\n",
            "Batch 30/44, Loss: 0.3501\n",
            "Batch 40/44, Loss: 0.4766\n",
            "Train Loss: 0.4305\n",
            "Val Accuracy: 81.33% | F1 Score: 0.4485 | Loss: 0.4955\n",
            "\n",
            "Epoch 10/10\n",
            "Batch 0/44, Loss: 0.3085\n",
            "Batch 10/44, Loss: 0.3215\n",
            "Batch 20/44, Loss: 0.2876\n",
            "Batch 30/44, Loss: 0.7773\n",
            "Batch 40/44, Loss: 0.2013\n",
            "Train Loss: 0.4238\n",
            "Val Accuracy: 81.33% | F1 Score: 0.4485 | Loss: 0.5059\n",
            "\n",
            "Evaluating on test data...\n",
            "Test Accuracy: 79.33% | F1 Score: 0.4723 | Loss: 0.5513\n",
            "Predictions: [0, 0, 0, 0, 0, 0, 0, 0, 0, 0, 0, 0, 0, 0, 0, 0, 0, 0, 0, 0, 0, 0, 0, 0, 0, 0, 0, 0, 0, 0, 0, 1, 0, 0, 0, 0, 0, 0, 0, 0, 0, 0, 0, 0, 0, 0, 0, 0, 0, 0, 0, 0, 0, 0, 0, 0, 0, 0, 0, 0, 0, 0, 0, 0, 0, 0, 0, 0, 0, 0, 0, 0, 0, 0, 0, 0, 0, 0, 0, 0, 0, 0, 0, 0, 0, 0, 0, 0, 0, 0, 0, 0, 0, 0, 0, 0, 0, 0, 0, 0, 0, 0, 0, 0, 0, 0, 0, 0, 0, 0, 0, 0, 0, 0, 0, 0, 0, 0, 0, 0, 0, 0, 0, 0, 0, 0, 0, 0, 0, 0, 0, 0, 0, 0, 0, 0, 0, 0, 0, 0, 0, 0, 0, 0, 0, 0, 0, 0, 0, 0]\n"
          ]
        }
      ],
      "source": [
        "from transformers import MambaForCausalLM, AutoTokenizer\n",
        "import torch\n",
        "import torch.nn as nn\n",
        "import torch.optim as optim\n",
        "import torch.nn.functional as F\n",
        "from torch.utils.data import DataLoader, Dataset\n",
        "from torch.utils.tensorboard import SummaryWriter\n",
        "# import f1_score from sklearn\n",
        "from sklearn.metrics import f1_score\n",
        "# import Loading Bar\n",
        "from tqdm import tqdm\n",
        "\n",
        "# Hyperparameters\n",
        "epochs = 10\n",
        "batch_size = 16\n",
        "learning_rate = 2e-5\n",
        "max_length = 512\n",
        "\n",
        "# Create a SummaryWriter to log metrics\n",
        "writer = SummaryWriter()\n",
        "\n",
        "device = torch.device(\"cuda\" if torch.cuda.is_available() else \"cpu\")\n",
        "print(f\"Using device: {device}\")\n",
        "\n",
        "# 1. Define Dataset Class\n",
        "class TextDataset(Dataset):\n",
        "    def __init__(self, texts, labels, tokenizer, max_length):\n",
        "        self.texts = texts\n",
        "        self.labels = labels\n",
        "        self.tokenizer = tokenizer\n",
        "        self.max_length = max_length\n",
        "\n",
        "    def __len__(self):\n",
        "        return len(self.texts)\n",
        "\n",
        "    def __getitem__(self, idx):\n",
        "        text = self.texts[idx]\n",
        "        label = self.labels[idx]\n",
        "        inputs = self.tokenizer(text, truncation=True, padding=\"max_length\", max_length=self.max_length, return_tensors=\"pt\")\n",
        "        inputs = {key: val.squeeze(0) for key, val in inputs.items()}  # Remove batch dimension\n",
        "        inputs[\"labels\"] = torch.tensor(label, dtype=torch.long)\n",
        "        return inputs\n",
        "\n",
        "# 2. Modify the model to add a classification head\n",
        "class MambaForTextClassification(nn.Module):\n",
        "    def __init__(self, model, num_labels):\n",
        "        super(MambaForTextClassification, self).__init__()\n",
        "        self.mamba_model = model\n",
        "        self.classifier = nn.Linear(self.mamba_model.config.hidden_size, num_labels)\n",
        "\n",
        "    def forward(self, input_ids, attention_mask=None):\n",
        "        # Get hidden states from the language model\n",
        "        outputs = self.mamba_model(input_ids=input_ids, attention_mask=attention_mask, output_hidden_states=True)\n",
        "        hidden_states = outputs.hidden_states[-1]  # Get the last hidden state\n",
        "\n",
        "        # Pool the hidden states (take the hidden state corresponding to [CLS] token or mean pooling)\n",
        "        pooled_output = hidden_states[:, 0, :]  # Using the first token's embedding (usually [CLS] token)\n",
        "\n",
        "        # Pass the pooled output through the classifier\n",
        "        logits = self.classifier(pooled_output)\n",
        "        return logits\n",
        "\n",
        "# 3. Initialize model, tokenizer, and dataset\n",
        "tokenizer = AutoTokenizer.from_pretrained(\"state-spaces/mamba-130m-hf\")\n",
        "mamba_model = MambaForCausalLM.from_pretrained(\"state-spaces/mamba-130m-hf\")\n",
        "classification_model = MambaForTextClassification(mamba_model, num_labels=2)\n",
        "classification_model = nn.DataParallel(classification_model)\n",
        "classification_model.to(device)\n",
        "\n",
        "freeze_mamba = False\n",
        "if freeze_mamba:\n",
        "    for param in classification_model.module.mamba_model.parameters():\n",
        "        param.requires_grad = False\n",
        "\n",
        "# Tokenize and create dataset\n",
        "train_dataset = TextDataset(train_texts.tolist(), y_train.tolist(), tokenizer, max_length)\n",
        "train_dataloader = DataLoader(train_dataset, batch_size=batch_size, shuffle=True)\n",
        "\n",
        "val_dataset = TextDataset(val_texts.tolist(), y_val.tolist(), tokenizer, max_length)\n",
        "val_dataloader = DataLoader(val_dataset, batch_size=batch_size, shuffle=True)\n",
        "\n",
        "test_dataset = TextDataset(test_texts.tolist(), y_test.tolist(), tokenizer, max_length)\n",
        "test_dataloader = DataLoader(test_dataset, batch_size=batch_size, shuffle=True)\n",
        "\n",
        "# 4. Define optimizer and loss function\n",
        "optimizer = optim.AdamW(classification_model.parameters(), lr=learning_rate)\n",
        "criterion = nn.CrossEntropyLoss()\n",
        "\n",
        "# 6. Evaluation function\n",
        "def evaluate_model(model, dataloader, epoch, phase='val'):\n",
        "    if phase == 'test':\n",
        "        print(\"\\nEvaluating on test data...\")\n",
        "\n",
        "    model.eval()\n",
        "    correct_predictions = 0\n",
        "    total_predictions = 0\n",
        "    total_loss = 0\n",
        "\n",
        "    all_labels = []\n",
        "    all_predictions = []\n",
        "\n",
        "    with torch.no_grad():\n",
        "        for batch in dataloader:\n",
        "            input_ids = batch['input_ids'].to(device)\n",
        "            attention_mask = batch.get('attention_mask').to(device)\n",
        "            labels = batch['labels'].to(device)\n",
        "            \n",
        "            logits = model(input_ids, attention_mask=attention_mask)\n",
        "            probs = F.softmax(logits, dim=-1)\n",
        "            predicted_class = torch.argmax(probs, dim=-1)\n",
        "            \n",
        "            correct_predictions += (predicted_class == labels).sum().item()\n",
        "            total_predictions += labels.size(0)\n",
        "\n",
        "            loss = criterion(logits, labels)\n",
        "            total_loss += loss.item()\n",
        "\n",
        "            all_labels.extend(labels.cpu().numpy())\n",
        "            all_predictions.extend(predicted_class.cpu().numpy())\n",
        "            \n",
        "    accuracy = correct_predictions / total_predictions\n",
        "    f1 = f1_score(all_labels, all_predictions, average='macro')\n",
        "    average_loss = total_loss / len(dataloader)\n",
        "    # Log validation loss, accuracy, and f1 score\n",
        "    writer.add_scalar(f'{phase}/Loss', average_loss, epoch)\n",
        "    writer.add_scalar(f'{phase}/Accuracy', accuracy, epoch)\n",
        "    writer.add_scalar(f'{phase}/F1_Score', f1, epoch)\n",
        "\n",
        "    print(f\"{phase.capitalize()} Accuracy: {accuracy * 100:.2f}% | F1 Score: {f1:.4f} | Loss: {average_loss:.4f}\")\n",
        "    if phase == 'test':\n",
        "        # print predictions\n",
        "        print(\"Predictions:\", all_predictions)\n",
        "\n",
        "# 5. Training loop\n",
        "def train_model(model, train_dataloader, val_dataloader, optimizer, criterion, epochs):\n",
        "    for epoch in range(epochs):\n",
        "        print(f\"\\nEpoch {epoch + 1}/{epochs}\")\n",
        "        model.train()\n",
        "        loss_sum = 0\n",
        "        for batch_idx, batch in enumerate(train_dataloader):\n",
        "            optimizer.zero_grad()\n",
        "            input_ids = batch['input_ids'].to(device)\n",
        "            attention_mask = batch.get('attention_mask').to(device)\n",
        "            labels = batch['labels'].to(device)\n",
        "            \n",
        "            logits = model(input_ids, attention_mask=attention_mask)\n",
        "            loss = criterion(logits, labels)\n",
        "            # Log loss\n",
        "            loss_sum += loss.item()\n",
        "\n",
        "            # Backpropagation\n",
        "            loss.backward()\n",
        "            optimizer.step()\n",
        "\n",
        "            # Print batch progress\n",
        "            if batch_idx % 10 == 0:  # Print every 10 batches\n",
        "                print(f\"Batch {batch_idx}/{len(train_dataloader)}, Loss: {loss.item():.4f}\")\n",
        "\n",
        "            writer.add_scalar('Loss/train', loss.item(), epoch * len(train_dataloader) + batch_idx)\n",
        "\n",
        "        print(f\"Train Loss: {loss_sum/len(train_dataloader):.4f}\")\n",
        "        \n",
        "        # calculate validation accuracy after each epoch\n",
        "        evaluate_model(model, val_dataloader, epoch, phase='val')\n",
        "\n",
        "# Train the model\n",
        "train_model(classification_model, train_dataloader, val_dataloader, optimizer, criterion, epochs)\n",
        "\n",
        "# Evaluate the model on test data\n",
        "evaluate_model(classification_model, test_dataloader, epoch=-1, phase='test')\n",
        "\n",
        "# Close TensorBoard writer\n",
        "writer.close()\n"
      ]
    },
    {
      "cell_type": "markdown",
      "metadata": {},
      "source": [
        "## Print End Time"
      ]
    },
    {
      "cell_type": "code",
      "execution_count": 21,
      "metadata": {},
      "outputs": [
        {
          "name": "stdout",
          "output_type": "stream",
          "text": [
            "------------------------------------------------\n",
            "End-Time\n",
            "2024-09-17 01:07:12\n",
            "------------------------------------------------\n"
          ]
        }
      ],
      "source": [
        "print_time.print_(\"End-Time\")"
      ]
    }
  ],
  "metadata": {
    "accelerator": "GPU",
    "colab": {
      "gpuType": "T4",
      "provenance": []
    },
    "kernelspec": {
      "display_name": "Python 3",
      "name": "python3"
    },
    "language_info": {
      "codemirror_mode": {
        "name": "ipython",
        "version": 3
      },
      "file_extension": ".py",
      "mimetype": "text/x-python",
      "name": "python",
      "nbconvert_exporter": "python",
      "pygments_lexer": "ipython3",
      "version": "3.10.12"
    }
  },
  "nbformat": 4,
  "nbformat_minor": 0
}
